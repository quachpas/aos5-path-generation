{
 "cells": [
  {
   "cell_type": "markdown",
   "metadata": {},
   "source": [
    "# Imports"
   ]
  },
  {
   "cell_type": "code",
   "execution_count": null,
   "metadata": {},
   "outputs": [],
   "source": [
    "%load_ext jupyter_black"
   ]
  },
  {
   "cell_type": "code",
   "execution_count": null,
   "metadata": {},
   "outputs": [],
   "source": [
    "import numpy as np\n",
    "import pandas as pd\n",
    "import matplotlib.pyplot as plt\n",
    "import networkx as nx\n",
    "import pulp as pl\n",
    "\n",
    "from copy import deepcopy\n",
    "from itertools import chain\n",
    "from tqdm import tqdm"
   ]
  },
  {
   "cell_type": "code",
   "execution_count": null,
   "metadata": {},
   "outputs": [],
   "source": [
    "pl.listSolvers(onlyAvailable=True)"
   ]
  },
  {
   "cell_type": "markdown",
   "metadata": {},
   "source": [
    "# Path Generation"
   ]
  },
  {
   "cell_type": "markdown",
   "metadata": {},
   "source": [
    "## Problem formulation"
   ]
  },
  {
   "cell_type": "markdown",
   "metadata": {},
   "source": [
    "_N.B.: In the following paragraph, we consider all paths to be simple paths, i.e. a sequence of edges visiting each of its nodes only once._"
   ]
  },
  {
   "cell_type": "markdown",
   "metadata": {},
   "source": [
    "We consider a network with:\n",
    "- $\\mathcal{V}$, a set of nodes\n",
    "- $\\mathcal{E}$, a set of directed edges with nonnegative capacities $C_e$, for each edge $e\\in \\mathcal{E}$\n",
    "- $d$, a connection/demand, with predefined path set $\\mathcal{P}_d$ between nodes $s_d$ and $t_d$\n",
    "- Any path $p$ is represented by a set of edges, i.e. $p\\subseteq \\mathcal{E}$"
   ]
  },
  {
   "cell_type": "markdown",
   "metadata": {},
   "source": [
    "We denote by $x_p$ the flow allocated to a path $p\\in \\mathcal{P}_d$, and $\\pi_e$ the associated dual variables of our problem formulation."
   ]
  },
  {
   "cell_type": "markdown",
   "metadata": {},
   "source": [
    "A flow $x_p$ is feasible, if it does not exceed the capacities $C_e$ of its edges. \n",
    "That is, for an edge $e\\in\\mathcal{E}$, the sum of all flows that include edge $e$ must not exceeed its capacity $C_e$\n",
    "$$\n",
    "\\sum_{p\\in \\mathcal{P}_d, e\\in p} x_p \\leq C_e\n",
    "$$\n"
   ]
  },
  {
   "cell_type": "markdown",
   "metadata": {},
   "source": [
    "**We wish to find feasible flows for each path that maximizes the sum of all flows $\\sum_{p\\in \\mathcal{P}_d} x_p$, i.e. the maximum flow problem formulated through path variables instead of flow variables on edges.**"
   ]
  },
  {
   "cell_type": "markdown",
   "metadata": {},
   "source": [
    "$$\n",
    "\\begin{align}\n",
    "\\max & \\sum_{p\\in \\mathcal{P}_d} x_p\\\\\n",
    "\\text{s.t.} & \\sum_{p\\in \\mathcal{P}_d, e\\in p} x_p \\leq C_e,\\quad \\forall e\\in \\mathcal{E}\\, (\\pi_e)\\\\\n",
    "& x_p \\geq 0,\\quad p\\in \\mathcal{P}_d\n",
    "\\end{align}\n",
    "$$"
   ]
  },
  {
   "cell_type": "markdown",
   "metadata": {},
   "source": [
    "We use the column generation algorithm to build paths to join the set $\\mathcal{P}_d$."
   ]
  },
  {
   "cell_type": "markdown",
   "metadata": {},
   "source": [
    "For any given path $q\\in D$, with $D$ the columns out of the optimal basis $B$, we wish to maximize the reduced cost \n",
    "$$\n",
    "C_D - C_B B^{-1}D = 1 - \\sum_{e\\in q} \\pi_e,\n",
    "$$\n",
    "i.e., minimizing $\\sum_{e\\in q} \\pi_e$, that is finding the shortest path $q$ weighted with $\\pi$."
   ]
  },
  {
   "cell_type": "markdown",
   "metadata": {},
   "source": [
    "_N.B.: The problem of maximum flow is equivalent to maximum path generation **if we consider all possible paths** instead of $\\mathcal{P}_d$._"
   ]
  },
  {
   "cell_type": "markdown",
   "metadata": {},
   "source": [
    "In this way, we can iteratively add paths to our initial set $\\mathcal{P}_d$ until the solution given by the master problem is optimal, i.e. the reduced cost is negative:\n",
    "\n",
    "1. Initialise the master problem (MP) with a set $\\mathcal{P}_d$ containing paths from $s_d$ to $t_d$\n",
    "2. Solve (MP) and note the obtained dual variables $\\pi$\n",
    "3. Compute the shortest path $q$ from $s_d$ to $t_d$\n",
    "4. Compute the reduced cost $r_q=1 - \\sum_{e\\in q}\\pi_e$\n",
    "    1. If $r_q \\geq 0$, then add $q$ to $\\mathcal{P}_d$, and continue from 2)\n",
    "    2. Otherwise, stop. The solution is optimal"
   ]
  },
  {
   "cell_type": "markdown",
   "metadata": {},
   "source": [
    "## Iterative procedure"
   ]
  },
  {
   "cell_type": "markdown",
   "metadata": {},
   "source": [
    "1. Density is the proportion of edges in a full connected graph. A dense graph has $n(n-1)$ edges where $n$ is the number of nodes\n",
    "2. `maximum_flow` from networkx has a linear trend w.r.t. the graph density\n",
    "3. Column generation has an exponential trend w.r.t. density (keep a density < 0.3 !!!)"
   ]
  },
  {
   "cell_type": "code",
   "execution_count": null,
   "metadata": {},
   "outputs": [],
   "source": [
    "def get_graphs(\n",
    "    min_capacity: int,\n",
    "    max_capacity: int,\n",
    "    n_nodes: int,\n",
    "    n_edges: int,\n",
    ") -> tuple[nx.DiGraph, nx.DiGraph]:\n",
    "    \"\"\"Initialize random graph with capacity.\"\"\"\n",
    "    if min_capacity < 0:\n",
    "        raise ValueError(\"Minimum capacity cannot be negative\")\n",
    "    elif min_capacity > max_capacity:\n",
    "        raise ValueError(\"Minimum capacity is above maximum capacity\")\n",
    "\n",
    "    graph = nx.gnm_random_graph(n_nodes, n_edges, directed=True)\n",
    "    dual_graph = deepcopy(graph)\n",
    "\n",
    "    for (u, v) in graph.edges():\n",
    "        graph.edges[u, v][\"capacity\"] = np.random.uniform(min_capacity, max_capacity)\n",
    "\n",
    "    return graph, dual_graph"
   ]
  },
  {
   "cell_type": "code",
   "execution_count": null,
   "metadata": {},
   "outputs": [],
   "source": [
    "def get_n_simple_paths(\n",
    "    graph: nx.DiGraph,\n",
    "    source: int,\n",
    "    destination: int,\n",
    "    max_n_paths: int = 16,\n",
    ") -> list[list[tuple[int, int]]]:\n",
    "    \"\"\"Get max_iter simple paths from source to destination.\"\"\"\n",
    "    simple_paths = []\n",
    "    gen = nx.all_simple_edge_paths(graph, source, destination, cutoff=10)\n",
    "    while len(simple_paths) < max_n_paths:\n",
    "        simple_paths.append(next(gen))\n",
    "    return simple_paths"
   ]
  },
  {
   "cell_type": "code",
   "execution_count": null,
   "metadata": {},
   "outputs": [],
   "source": [
    "def master_problem(\n",
    "    graph: nx.DiGraph,\n",
    "    max_capacity: int,\n",
    "    paths: list[list[tuple[int, int]]],\n",
    ") -> pl.LpProblem:\n",
    "    \"\"\"Initialise the master problem.\n",
    "\n",
    "    1. Add path variables\n",
    "    2. Iteratively add capacity constraints\n",
    "\n",
    "    Args:\n",
    "        graph: graph of the problem instance\n",
    "        max_capacity: to give an upperbound to the LpVariables\n",
    "        paths: initial paths set $\\mathcal{P}_d$\n",
    "    \"\"\"\n",
    "    # Initialise master problem\n",
    "    lpProb = pl.LpProblem(\n",
    "        name=\"PathGeneration\",\n",
    "        sense=pl.LpMaximize,\n",
    "    )\n",
    "\n",
    "    # For every path add one variable\n",
    "    path_variables = [\n",
    "        pl.LpVariable(\n",
    "            name=\"X\" + str(i),\n",
    "            lowBound=0,\n",
    "            upBound=max_capacity,\n",
    "            cat=pl.LpContinuous,\n",
    "        )\n",
    "        for i in range(len(paths))\n",
    "    ]\n",
    "\n",
    "    # Add variables with weight 1 to the objective\n",
    "    lpProb += 0\n",
    "    for var in path_variables:\n",
    "        lpProb.objective.addterm(var, 1)\n",
    "\n",
    "    # Add capacities constraints\n",
    "    unique_edges = set(list(chain(*paths)))\n",
    "    for edge in unique_edges:\n",
    "        variables = [\n",
    "            path_var for path, path_var in zip(paths, path_variables) if edge in path\n",
    "        ]\n",
    "        lpProb.constraints[str(edge)] = sum(variables) <= graph.edges[edge][\"capacity\"]\n",
    "\n",
    "    return lpProb"
   ]
  },
  {
   "cell_type": "code",
   "execution_count": null,
   "metadata": {},
   "outputs": [],
   "source": [
    "def add_paths(\n",
    "    lpProb: pl.LpProblem,\n",
    "    graph: nx.DiGraph,\n",
    "    path_set: list[list[tuple[int, int]]],\n",
    "    new_path: list[tuple[int, int]],\n",
    "    max_capacity: int,\n",
    "):\n",
    "    \"\"\"Add new variable and constraint associated with new path.\n",
    "\n",
    "    Args:\n",
    "        lpProb: master problem\n",
    "        graph: graph of the problem instance\n",
    "        path_set: existing paths in the LP problem\n",
    "        new_path: new path to add to the formulation\n",
    "        max_capacity: maximum edge capacity to bound the variable\n",
    "    \"\"\"\n",
    "    # Add new variable and update objective function\n",
    "    var = pl.LpVariable(\n",
    "        name=\"X\" + str(len(lpProb.variables())),\n",
    "        lowBound=0,\n",
    "        upBound=max_capacity,\n",
    "        cat=pl.LpContinuous,\n",
    "    )\n",
    "    lpProb.objective.addterm(var, 1)\n",
    "\n",
    "    # Add new constraints\n",
    "    for edge in new_path:\n",
    "        if edge in lpProb.constraints:\n",
    "            # Edge is already constrained, simply add the new variable\n",
    "            lpProb.constraints[str(edge)].addterm(var, 1)\n",
    "        else:\n",
    "            # Edge is not constrained, check all other existing paths\n",
    "            # to create the new constraint\n",
    "            variables = [\n",
    "                path_var\n",
    "                for path, path_var in zip(path_set, lpProb.variables())\n",
    "                if edge in path\n",
    "            ] + [var]\n",
    "            lpProb.constraints[str(edge)] = (\n",
    "                sum(variables) <= graph.edges[edge][\"capacity\"]\n",
    "            )\n",
    "\n",
    "    return lpProb"
   ]
  },
  {
   "cell_type": "code",
   "execution_count": null,
   "metadata": {},
   "outputs": [],
   "source": [
    "def str_to_tuple_int(val: str) -> tuple[int, int]:\n",
    "    a, b = val.split(\",\")\n",
    "    return int(a[1:]), int(b[1:-1])"
   ]
  },
  {
   "cell_type": "code",
   "execution_count": null,
   "metadata": {},
   "outputs": [],
   "source": [
    "def get_duals(lpProb: pl.LpProblem) -> dict[tuple[int, int], float]:\n",
    "    \"\"\"Get the dual variables from PuLP LP problem.\n",
    "\n",
    "    Notes\n",
    "        Dual values are rounded to avoid small negative values.\n",
    "    \"\"\"\n",
    "    return {\n",
    "        str_to_tuple_int(name): np.around(c.pi, 8)\n",
    "        for name, c in lpProb.constraints.items()\n",
    "    }"
   ]
  },
  {
   "cell_type": "code",
   "execution_count": null,
   "metadata": {},
   "outputs": [],
   "source": [
    "def reset_weights_graph(\n",
    "    graph: nx.DiGraph,\n",
    "    new_weights: dict[tuple[int, int], float],\n",
    ") -> None:\n",
    "    \"\"\"Utility function for setting weights.\"\"\"\n",
    "    # Reset weight\n",
    "    nx.set_edge_attributes(\n",
    "        graph,\n",
    "        values=0,\n",
    "        name=\"weight\",\n",
    "    )\n",
    "    # Set new weights\n",
    "    nx.set_edge_attributes(\n",
    "        graph,\n",
    "        values=new_weights,\n",
    "        name=\"weight\",\n",
    "    )"
   ]
  },
  {
   "cell_type": "code",
   "execution_count": null,
   "metadata": {
    "tags": []
   },
   "outputs": [],
   "source": [
    "def path_generation(\n",
    "    min_capacity: int,\n",
    "    max_capacity: int,\n",
    "    n_nodes: int,\n",
    "    n_edges: int,\n",
    "    source: int,\n",
    "    destination: int,\n",
    "    n_initial_paths: int,\n",
    "    precision: int = 2,\n",
    "    max_iter: int = 100,\n",
    "    solver: pl.LpSolver = None,\n",
    "):\n",
    "    \"\"\"Iteratively solve the master problem using path generation.\"\"\"\n",
    "    # Initialisations\n",
    "    graph, dual_graph = get_graphs(min_capacity, max_capacity, n_nodes, n_edges)\n",
    "    max_flow = round(nx.maximum_flow_value(graph, 0, 1), precision)\n",
    "    if not solver:\n",
    "        solver = pl.PULP_CBC_CMD(msg=False)\n",
    "    path_set = get_n_simple_paths(\n",
    "        graph, source, destination, max_n_paths=n_initial_paths\n",
    "    )\n",
    "    lpProb = master_problem(\n",
    "        graph=graph,\n",
    "        max_capacity=max_capacity,\n",
    "        paths=path_set,\n",
    "    )\n",
    "\n",
    "    # Solve the MP\n",
    "    lpProb.solve(solver)\n",
    "\n",
    "    # Iterations\n",
    "    reduced_cost = np.array([1])\n",
    "    with tqdm(total=max_iter) as pbar:\n",
    "        counter = 0\n",
    "        while reduced_cost[-1] > 0:\n",
    "            # Shortest path q from source to destination, weighted by dual values\n",
    "            duals = get_duals(lpProb)\n",
    "            reset_weights_graph(dual_graph, duals)\n",
    "            try:\n",
    "                path_q_gen = nx.all_shortest_paths(\n",
    "                    dual_graph, source, destination, weight=\"weight\"\n",
    "                )\n",
    "            except ValueError as e:\n",
    "                print(\"SHORTEST PATH ERROR\")\n",
    "                print(e)\n",
    "                return lpProb, None, None\n",
    "\n",
    "            # Select one path not in path_set\n",
    "            for path_q in path_q_gen:\n",
    "                if path_q not in path_set:\n",
    "                    path_q = list(zip(path_q[:-1], path_q[1:]))\n",
    "                    break\n",
    "                else:\n",
    "                    raise ValueError(\"No candidate shortest path\")\n",
    "\n",
    "            # Compute reduced cost for path q\n",
    "            reduced_cost = np.append(\n",
    "                reduced_cost,\n",
    "                1\n",
    "                - np.sum(\n",
    "                    [\n",
    "                        lpProb.constraints[str(edge)].pi\n",
    "                        for edge in path_q\n",
    "                        if str(edge) in lpProb.constraints\n",
    "                    ]\n",
    "                ),\n",
    "            )\n",
    "\n",
    "            # Check stop condition\n",
    "            if reduced_cost[-1] > 0:\n",
    "                # Add constraint associated with path q to LP Problem\n",
    "                lpProb = add_paths(\n",
    "                    lpProb=lpProb,\n",
    "                    graph=graph,\n",
    "                    path_set=path_set,\n",
    "                    new_path=path_q,\n",
    "                    max_capacity=max_capacity,\n",
    "                )\n",
    "\n",
    "                # Update path set\n",
    "                path_set.append(path_q)\n",
    "                del path_q\n",
    "\n",
    "                # Solve the problem again\n",
    "                lpProb.solve(solver)\n",
    "\n",
    "            # Update progress bar\n",
    "            obj_value = round(lpProb.objective.value(), precision)\n",
    "            pbar.update(counter)\n",
    "            pbar.set_description(\n",
    "                f\"Path generation n°{counter} | \"\n",
    "                f\"Reduced cost: {reduced_cost[-1]:.2f} | \"\n",
    "                f\"Objective value: {obj_value:.2f} | \"\n",
    "                f\"Networkx maximum flow: {max_flow:.2f}\"\n",
    "            )\n",
    "\n",
    "            # Check max iteration\n",
    "            counter += 1\n",
    "            if counter == max_iter:\n",
    "                break\n",
    "\n",
    "        return lpProb, graph, reduced_cost"
   ]
  },
  {
   "cell_type": "code",
   "execution_count": null,
   "metadata": {},
   "outputs": [],
   "source": [
    "min_capacity = 5\n",
    "max_capacity = 15\n",
    "density = 0.05\n",
    "n_nodes = 5 * 10**2\n",
    "n_edges = int(density * (n_nodes * (n_nodes - 1)))\n",
    "source, destination = 0, 1  # don't need to randomize (graph is randomized)\n",
    "precision = 4\n",
    "max_iter = 1000\n",
    "solver = pl.GUROBI(msg=False)"
   ]
  },
  {
   "cell_type": "code",
   "execution_count": null,
   "metadata": {
    "tags": []
   },
   "outputs": [],
   "source": [
    "lpProb, graph, reduced_cost = path_generation(\n",
    "    min_capacity=min_capacity,\n",
    "    max_capacity=max_capacity,\n",
    "    n_nodes=n_nodes,\n",
    "    n_edges=n_edges,\n",
    "    source=source,\n",
    "    destination=destination,\n",
    "    n_initial_paths=1,\n",
    "    precision=precision,\n",
    "    max_iter=max_iter,\n",
    "    solver=solver,\n",
    ")"
   ]
  },
  {
   "cell_type": "code",
   "execution_count": null,
   "metadata": {},
   "outputs": [],
   "source": [
    "max_flow, _ = nx.maximum_flow(graph, 0, 1)\n",
    "max_flow"
   ]
  },
  {
   "cell_type": "markdown",
   "metadata": {},
   "source": [
    "- benchmark instances petites/grandes ; \n",
    "- comparaison formulation standard;"
   ]
  }
 ],
 "metadata": {
  "kernelspec": {
   "display_name": "Python 3 (ipykernel)",
   "language": "python",
   "name": "python3"
  },
  "language_info": {
   "codemirror_mode": {
    "name": "ipython",
    "version": 3
   },
   "file_extension": ".py",
   "mimetype": "text/x-python",
   "name": "python",
   "nbconvert_exporter": "python",
   "pygments_lexer": "ipython3",
   "version": "3.10.8"
  },
  "vscode": {
   "interpreter": {
    "hash": "770b5886b0b327e0fa0332c0d6b4bdee1b105ba5d5227e421d9cca75b92371f9"
   }
  }
 },
 "nbformat": 4,
 "nbformat_minor": 4
}
