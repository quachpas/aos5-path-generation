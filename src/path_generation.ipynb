{
 "cells": [
  {
   "cell_type": "markdown",
   "metadata": {},
   "source": [
    "# Imports"
   ]
  },
  {
   "cell_type": "code",
   "execution_count": 3,
   "metadata": {},
   "outputs": [
    {
     "name": "stdout",
     "output_type": "stream",
     "text": [
      "The jupyter_black extension is already loaded. To reload it, use:\n",
      "  %reload_ext jupyter_black\n"
     ]
    }
   ],
   "source": [
    "%load_ext jupyter_black"
   ]
  },
  {
   "cell_type": "code",
   "execution_count": 45,
   "metadata": {},
   "outputs": [],
   "source": [
    "import numpy as np\n",
    "import pandas as pd\n",
    "import matplotlib.pyplot as plt\n",
    "import networkx as nx\n",
    "import pulp as pl\n",
    "import seaborn as sns\n",
    "\n",
    "from copy import deepcopy\n",
    "from itertools import chain\n",
    "from tqdm import tqdm\n",
    "import logging\n",
    "import time\n",
    "\n",
    "logger = logging.getLogger(__name__)"
   ]
  },
  {
   "cell_type": "code",
   "execution_count": 5,
   "metadata": {},
   "outputs": [
    {
     "name": "stdout",
     "output_type": "stream",
     "text": [
      "Set parameter WLSAccessID\n",
      "Set parameter WLSSecret\n",
      "Set parameter LicenseID to value 915570\n",
      "Academic license - for non-commercial use only - registered to pascal.quach@etu.utc.fr\n",
      "No parameters matching '_test' found\n"
     ]
    },
    {
     "data": {
      "text/plain": [
       "['GUROBI', 'PULP_CBC_CMD']"
      ]
     },
     "execution_count": 5,
     "metadata": {},
     "output_type": "execute_result"
    }
   ],
   "source": [
    "pl.listSolvers(onlyAvailable=True)"
   ]
  },
  {
   "cell_type": "markdown",
   "metadata": {},
   "source": [
    "# Path Generation"
   ]
  },
  {
   "cell_type": "markdown",
   "metadata": {},
   "source": [
    "## Problem formulation"
   ]
  },
  {
   "cell_type": "markdown",
   "metadata": {},
   "source": [
    "_N.B.: In the following paragraph, we consider all paths to be simple paths, i.e. a sequence of edges visiting each of its nodes only once._"
   ]
  },
  {
   "cell_type": "markdown",
   "metadata": {},
   "source": [
    "We consider a network with:\n",
    "- $\\mathcal{V}$, a set of nodes\n",
    "- $\\mathcal{E}$, a set of directed edges with nonnegative capacities $C_e$, for each edge $e\\in \\mathcal{E}$\n",
    "- $d$, a connection/demand, with predefined path set $\\mathcal{P}_d$ between nodes $s_d$ and $t_d$\n",
    "- Any path $p$ is represented by a set of edges, i.e. $p\\subseteq \\mathcal{E}$"
   ]
  },
  {
   "cell_type": "markdown",
   "metadata": {},
   "source": [
    "We denote by $x_p$ the flow allocated to a path $p\\in \\mathcal{P}_d$, and $\\pi_e$ the associated dual variables of our problem formulation."
   ]
  },
  {
   "cell_type": "markdown",
   "metadata": {},
   "source": [
    "A flow $x_p$ is feasible, if it does not exceed the capacities $C_e$ of its edges. \n",
    "That is, for an edge $e\\in\\mathcal{E}$, the sum of all flows that include edge $e$ must not exceeed its capacity $C_e$\n",
    "$$\n",
    "\\sum_{p\\in \\mathcal{P}_d, e\\in p} x_p \\leq C_e\n",
    "$$\n"
   ]
  },
  {
   "cell_type": "markdown",
   "metadata": {},
   "source": [
    "**We wish to find feasible flows for each path that maximizes the sum of all flows $\\sum_{p\\in \\mathcal{P}_d} x_p$, i.e. the maximum flow problem formulated through path variables instead of flow variables on edges.**"
   ]
  },
  {
   "cell_type": "markdown",
   "metadata": {},
   "source": [
    "$$\n",
    "\\begin{aligned}\n",
    "\\max & \\sum_{p\\in \\mathcal{P}_d} x_p\\\\\n",
    "\\text{s.t.} & \\sum_{p\\in \\mathcal{P}_d, e\\in p} x_p \\leq C_e,\\quad \\forall e\\in \\mathcal{E}\\, (\\pi_e)\\\\\n",
    "& x_p \\geq 0,\\quad p\\in \\mathcal{P}_d\n",
    "\\end{aligned}\n",
    "$$"
   ]
  },
  {
   "cell_type": "markdown",
   "metadata": {},
   "source": [
    "We use the column generation algorithm to build paths to join the set $\\mathcal{P}_d$."
   ]
  },
  {
   "cell_type": "markdown",
   "metadata": {},
   "source": [
    "For any given path $q\\in D$, with $D$ the columns out of the optimal basis $B$, we wish to maximize the reduced cost \n",
    "$$\n",
    "C_D - C_B B^{-1}D = 1 - \\sum_{e\\in q} \\pi_e,\n",
    "$$\n",
    "i.e., minimizing $\\sum_{e\\in q} \\pi_e$, that is finding the shortest path $q$ weighted with $\\pi$."
   ]
  },
  {
   "cell_type": "markdown",
   "metadata": {},
   "source": [
    "_N.B.: The problem of maximum flow is equivalent to maximum path generation **if we consider all possible paths** instead of $\\mathcal{P}_d$._"
   ]
  },
  {
   "cell_type": "markdown",
   "metadata": {},
   "source": [
    "In this way, we can iteratively add paths to our initial set $\\mathcal{P}_d$ until the solution given by the master problem is optimal, i.e. the reduced cost is negative:\n",
    "\n",
    "1. Initialise the master problem (MP) with a set $\\mathcal{P}_d$ containing paths from $s_d$ to $t_d$\n",
    "2. Solve (MP) and note the obtained dual variables $\\pi$\n",
    "3. Compute the shortest path $q$ from $s_d$ to $t_d$\n",
    "4. Compute the reduced cost $r_q=1 - \\sum_{e\\in q}\\pi_e$\n",
    "    1. If $r_q \\geq 0$, then add $q$ to $\\mathcal{P}_d$, and continue from 2)\n",
    "    2. Otherwise, stop. The solution is optimal"
   ]
  },
  {
   "cell_type": "markdown",
   "metadata": {},
   "source": [
    "## Iterative procedure"
   ]
  },
  {
   "cell_type": "markdown",
   "metadata": {},
   "source": [
    "1. Density is the proportion of edges in a full connected graph. A dense graph has $n(n-1)$ edges where $n$ is the number of nodes\n",
    "2. `maximum_flow` from networkx has a linear trend w.r.t. the graph density"
   ]
  },
  {
   "cell_type": "code",
   "execution_count": 6,
   "metadata": {},
   "outputs": [],
   "source": [
    "def get_graphs(\n",
    "    min_capacity: int,\n",
    "    max_capacity: int,\n",
    "    n_nodes: int,\n",
    "    n_edges: int,\n",
    ") -> tuple[nx.DiGraph, nx.DiGraph]:\n",
    "    \"\"\"Initialize random graph with capacity.\"\"\"\n",
    "    if min_capacity < 0:\n",
    "        raise ValueError(\"Minimum capacity cannot be negative\")\n",
    "    elif min_capacity > max_capacity:\n",
    "        raise ValueError(\"Minimum capacity is above maximum capacity\")\n",
    "\n",
    "    graph = nx.gnm_random_graph(n_nodes, n_edges, directed=True)\n",
    "    dual_graph = deepcopy(graph)\n",
    "\n",
    "    for (u, v) in graph.edges():\n",
    "        graph.edges[u, v][\"capacity\"] = np.random.uniform(min_capacity, max_capacity)\n",
    "\n",
    "    return graph, dual_graph"
   ]
  },
  {
   "cell_type": "code",
   "execution_count": 221,
   "metadata": {},
   "outputs": [],
   "source": [
    "def get_n_simple_paths(\n",
    "    graph: nx.DiGraph,\n",
    "    source: int,\n",
    "    destination: int,\n",
    "    max_n_paths: int = 16,\n",
    ") -> list[list[tuple[int, int]]]:\n",
    "    \"\"\"Get max_iter simple paths from source to destination.\"\"\"\n",
    "    simple_paths = []\n",
    "    gen = nx.all_simple_edge_paths(graph, source, destination, cutoff=0.1 * len(graph))\n",
    "    while len(simple_paths) < max_n_paths:\n",
    "        simple_paths.append(next(gen))\n",
    "\n",
    "    return simple_paths"
   ]
  },
  {
   "cell_type": "code",
   "execution_count": 223,
   "metadata": {},
   "outputs": [],
   "source": [
    "def master_problem(\n",
    "    graph: nx.DiGraph,\n",
    "    max_capacity: int,\n",
    "    paths: list[list[tuple[int, int]]],\n",
    ") -> pl.LpProblem:\n",
    "    \"\"\"Initialise the master problem.\n",
    "\n",
    "    1. Add path variables\n",
    "    2. Iteratively add capacity constraints\n",
    "\n",
    "    Args:\n",
    "        graph: graph of the problem instance\n",
    "        max_capacity: to give an upperbound to the LpVariables\n",
    "        paths: initial paths set $\\mathcal{P}_d$\n",
    "    \"\"\"\n",
    "    # Initialise master problem\n",
    "    lpProb = pl.LpProblem(\n",
    "        name=\"PathGeneration\",\n",
    "        sense=pl.LpMaximize,\n",
    "    )\n",
    "\n",
    "    # For every path add one variable\n",
    "    path_variables = [\n",
    "        pl.LpVariable(\n",
    "            name=\"X\" + str(i),\n",
    "            lowBound=0,\n",
    "            upBound=max_capacity,\n",
    "            cat=pl.LpContinuous,\n",
    "        )\n",
    "        for i in range(len(paths))\n",
    "    ]\n",
    "\n",
    "    # Add variables with weight 1 to the objective\n",
    "    lpProb += 0\n",
    "    for var in path_variables:\n",
    "        lpProb.objective.addterm(var, 1)\n",
    "\n",
    "    # Add capacities constraints\n",
    "    unique_edges = set(list(chain(*paths)))\n",
    "    for edge in unique_edges:\n",
    "        variables = [\n",
    "            path_var for path, path_var in zip(paths, path_variables) if edge in path\n",
    "        ]\n",
    "        lpProb.constraints[str(edge)] = sum(variables) <= graph.edges[edge][\"capacity\"]\n",
    "\n",
    "    return lpProb"
   ]
  },
  {
   "cell_type": "code",
   "execution_count": 252,
   "metadata": {},
   "outputs": [],
   "source": [
    "def add_paths(\n",
    "    lpProb: pl.LpProblem,\n",
    "    graph: nx.DiGraph,\n",
    "    path_set: list[list[tuple[int, int]]],\n",
    "    new_path: list[tuple[int, int]],\n",
    "    max_capacity: int,\n",
    "):\n",
    "    \"\"\"Add new variable and constraint associated with new path.\n",
    "\n",
    "    Args:\n",
    "        lpProb: master problem\n",
    "        graph: graph of the problem instance\n",
    "        path_set: existing paths in the LP problem\n",
    "        new_path: new path to add to the formulation\n",
    "        max_capacity: maximum edge capacity to bound the variable\n",
    "    \"\"\"\n",
    "    # Add new variable and update objective function\n",
    "    var = pl.LpVariable(\n",
    "        name=\"X\" + str(len(lpProb.variables())),\n",
    "        lowBound=0,\n",
    "        upBound=max_capacity,\n",
    "        cat=pl.LpContinuous,\n",
    "    )\n",
    "    lpProb.objective.addterm(var, 1)\n",
    "\n",
    "    # Add new constraints\n",
    "    for edge in new_path:\n",
    "        if str(edge) in lpProb.constraints:\n",
    "            # Edge is already constrained, simply add the new variable\n",
    "            lpProb.constraints[str(edge)].addterm(var, 1)\n",
    "        else:\n",
    "            # Edge is not constrained, check all other existing paths\n",
    "            # to create the new constraint\n",
    "            variables = [\n",
    "                path_var\n",
    "                for path, path_var in zip(path_set, lpProb.variables())\n",
    "                if edge in path\n",
    "            ] + [var]\n",
    "            lpProb.constraints[str(edge)] = (\n",
    "                sum(variables) <= graph.edges[edge][\"capacity\"]\n",
    "            )\n",
    "\n",
    "    return lpProb"
   ]
  },
  {
   "cell_type": "code",
   "execution_count": 253,
   "metadata": {},
   "outputs": [],
   "source": [
    "def str_to_tuple_int(val: str) -> tuple[int, int]:\n",
    "    a, b = val.split(\",\")\n",
    "    return int(a[1:]), int(b[1:-1])"
   ]
  },
  {
   "cell_type": "code",
   "execution_count": 254,
   "metadata": {},
   "outputs": [],
   "source": [
    "def get_duals(lpProb: pl.LpProblem) -> dict[tuple[int, int], float]:\n",
    "    \"\"\"Get the dual variables from PuLP LP problem.\n",
    "\n",
    "    Notes\n",
    "        Dual values are rounded to avoid small negative values.\n",
    "    \"\"\"\n",
    "    return {\n",
    "        str_to_tuple_int(name): np.around(c.pi, 8)\n",
    "        for name, c in lpProb.constraints.items()\n",
    "    }"
   ]
  },
  {
   "cell_type": "code",
   "execution_count": 255,
   "metadata": {},
   "outputs": [],
   "source": [
    "def reset_weights_graph(\n",
    "    graph: nx.DiGraph,\n",
    "    new_weights: dict[tuple[int, int], float],\n",
    ") -> None:\n",
    "    \"\"\"Utility function for setting weights.\"\"\"\n",
    "    # Reset weight\n",
    "    nx.set_edge_attributes(\n",
    "        graph,\n",
    "        values=0,\n",
    "        name=\"weight\",\n",
    "    )\n",
    "    # Set new weights\n",
    "    nx.set_edge_attributes(\n",
    "        graph,\n",
    "        values=new_weights,\n",
    "        name=\"weight\",\n",
    "    )"
   ]
  },
  {
   "cell_type": "code",
   "execution_count": 349,
   "metadata": {
    "tags": []
   },
   "outputs": [],
   "source": [
    "def path_generation(\n",
    "    min_capacity: int,\n",
    "    max_capacity: int,\n",
    "    n_nodes: int,\n",
    "    n_edges: int,\n",
    "    source: int,\n",
    "    destination: int,\n",
    "    n_initial_paths: int,\n",
    "    precision: int = 2,\n",
    "    max_iter: int = 100,\n",
    "    solver: pl.LpSolver = None,\n",
    "    graph: nx.DiGraph = None,\n",
    "    max_flow: bool = False,\n",
    "):\n",
    "    \"\"\"Iteratively solve the master problem using path generation.\"\"\"\n",
    "    # Initialisations\n",
    "    logger.info(\n",
    "        f\"Generating the graph instance: \"\n",
    "        f\"{n_nodes} nodes, {n_edges} edges, \"\n",
    "        f\"edge capacities: [{min_capacity}, {max_capacity}]\"\n",
    "    )\n",
    "    if not graph:\n",
    "        graph, dual_graph = get_graphs(min_capacity, max_capacity, n_nodes, n_edges)\n",
    "    else:\n",
    "        dual_graph = deepcopy(graph)\n",
    "\n",
    "    if max_flow:\n",
    "        max_flow = round(nx.maximum_flow_value(graph, 0, 1), precision)\n",
    "        logger.info(f\"Maximum flow from networkx: {max_flow:.2f}\")\n",
    "\n",
    "    if not solver:\n",
    "        logger.info(\"Using default solver PULP_CBC_CMD\")\n",
    "        solver = pl.PULP_CBC_CMD(msg=False)\n",
    "\n",
    "    logger.info(f\"Initialising path set with {n_initial_paths} path(s).\")\n",
    "    path_set = get_n_simple_paths(\n",
    "        graph, source, destination, max_n_paths=n_initial_paths\n",
    "    )\n",
    "\n",
    "    logger.info(\"Initialising master problem\")\n",
    "    lpProb = master_problem(\n",
    "        graph=graph,\n",
    "        max_capacity=max_capacity,\n",
    "        paths=path_set,\n",
    "    )\n",
    "\n",
    "    # Solve the MP\n",
    "    logger.info(\"Solving MP for the first time\")\n",
    "    lpProb.solve(solver)\n",
    "\n",
    "    logger.info(f\"Current objective value: {lpProb.objective.value():.2f}\")\n",
    "\n",
    "    # Iterations\n",
    "    logger.info(\"Beginning path generation\")\n",
    "    reduced_cost = np.array([1])\n",
    "    if max_flow:\n",
    "        total = max_flow\n",
    "    else:\n",
    "        total = np.nan\n",
    "    with tqdm(total=None) as pbar:\n",
    "        counter = 0\n",
    "        while reduced_cost[-1] > 0:\n",
    "            # Shortest path q from source to destination, weighted by dual values\n",
    "            duals = get_duals(lpProb)\n",
    "            reset_weights_graph(dual_graph, duals)\n",
    "            try:\n",
    "                path_q_gen = nx.all_shortest_paths(\n",
    "                    dual_graph, source, destination, weight=\"weight\"\n",
    "                )\n",
    "            except ValueError as e:\n",
    "                print(\"SHORTEST PATH ERROR\")\n",
    "                print(e)\n",
    "                return lpProb, None, None\n",
    "\n",
    "            # Select one path not in path_set\n",
    "            for path_q in path_q_gen:\n",
    "                if path_q not in path_set:\n",
    "                    path_q = list(zip(path_q[:-1], path_q[1:]))\n",
    "                    break\n",
    "                else:\n",
    "                    raise ValueError(\"No candidate shortest path\")\n",
    "\n",
    "            # Compute reduced cost for path q\n",
    "            reduced_cost = np.append(\n",
    "                reduced_cost,\n",
    "                1\n",
    "                - np.sum(\n",
    "                    [\n",
    "                        lpProb.constraints[str(edge)].pi\n",
    "                        for edge in path_q\n",
    "                        if str(edge) in lpProb.constraints\n",
    "                    ]\n",
    "                ),\n",
    "            )\n",
    "\n",
    "            # Check stop condition\n",
    "            if reduced_cost[-1] > 0:\n",
    "                # Add constraint associated with path q to LP Problem\n",
    "                lpProb = add_paths(\n",
    "                    lpProb=lpProb,\n",
    "                    graph=graph,\n",
    "                    path_set=path_set,\n",
    "                    new_path=path_q,\n",
    "                    max_capacity=max_capacity,\n",
    "                )\n",
    "\n",
    "                # Update path set\n",
    "                path_set.append(path_q)\n",
    "                del path_q\n",
    "\n",
    "                # Solve the problem again\n",
    "                lpProb.solve(solver)\n",
    "\n",
    "            # Update progress bar\n",
    "            obj_value = round(lpProb.objective.value(), precision)\n",
    "            pbar.update(obj_value - pbar.n)\n",
    "            pbar.set_description(\n",
    "                f\"({graph}) \"\n",
    "                f\"Path generation n°{counter} | \"\n",
    "                f\"Reduced cost: {reduced_cost[-1]:.2f} | \"\n",
    "                f\"Objective value: {obj_value:.2f} | \"\n",
    "                f\"Networkx max. flow: {total:.2f}\"\n",
    "            )\n",
    "\n",
    "            # Check max iteration\n",
    "            counter += 1\n",
    "            if counter == max_iter:\n",
    "                break\n",
    "\n",
    "        return lpProb, graph, reduced_cost, total"
   ]
  },
  {
   "cell_type": "code",
   "execution_count": 350,
   "metadata": {},
   "outputs": [
    {
     "data": {
      "text/plain": [
       "(5000, 124975)"
      ]
     },
     "execution_count": 350,
     "metadata": {},
     "output_type": "execute_result"
    }
   ],
   "source": [
    "min_capacity = 5\n",
    "max_capacity = 15\n",
    "density = 0.005\n",
    "n_nodes = 5 * 10**3\n",
    "n_edges = int(density * (n_nodes * (n_nodes - 1)))\n",
    "source, destination = 0, 1  # don't need to randomize (graph is randomized)\n",
    "precision = 4\n",
    "max_iter = 1000\n",
    "solver = pl.GUROBI(msg=False)\n",
    "n_nodes, n_edges"
   ]
  },
  {
   "cell_type": "code",
   "execution_count": 351,
   "metadata": {
    "tags": []
   },
   "outputs": [
    {
     "name": "stderr",
     "output_type": "stream",
     "text": [
      "(DiGraph with 5000 nodes and 124975 edges) Path generation n°57 | Reduced cost: 0.00 | Objective value: 184.93 | Networkx max. flow: nan: : 184.9283it [00:05, 31.94it/s]\n"
     ]
    }
   ],
   "source": [
    "lpProb, graph, reduced_cost, max_flow = path_generation(\n",
    "    min_capacity=min_capacity,\n",
    "    max_capacity=max_capacity,\n",
    "    n_nodes=n_nodes,\n",
    "    n_edges=n_edges,\n",
    "    source=source,\n",
    "    destination=destination,\n",
    "    n_initial_paths=1,\n",
    "    precision=precision,\n",
    "    max_iter=max_iter,\n",
    "    solver=solver,\n",
    ")"
   ]
  },
  {
   "cell_type": "code",
   "execution_count": 353,
   "metadata": {},
   "outputs": [
    {
     "data": {
      "text/plain": [
       "184.92825433819542"
      ]
     },
     "execution_count": 353,
     "metadata": {},
     "output_type": "execute_result"
    }
   ],
   "source": [
    "max_flow, _ = nx.maximum_flow(graph, 0, 1)\n",
    "max_flow"
   ]
  },
  {
   "cell_type": "markdown",
   "metadata": {},
   "source": [
    "# Benchmark"
   ]
  },
  {
   "cell_type": "markdown",
   "metadata": {},
   "source": [
    "Some basic observations (see below):\n",
    "\n",
    "1. The number of iterations required to achieve null reduced cost grows **linearly** with the number of nodes\n",
    "\n",
    "2. The duration required to achieve null reduced cost grows **exponentially** with the number of nodes\n",
    "\n",
    "3. The number of iterations required to achieve null reduced cost grows **linearly** with edge density\n",
    "\n",
    "4. The duration required to achieve null reduced cost grows **exponentially** with edge density"
   ]
  },
  {
   "cell_type": "markdown",
   "metadata": {},
   "source": [
    "## Computational Performance"
   ]
  },
  {
   "cell_type": "code",
   "execution_count": 422,
   "metadata": {},
   "outputs": [],
   "source": [
    "def run_n_times(\n",
    "    params: list[dict[str, float | int]],\n",
    "    n: int,\n",
    "):\n",
    "    \"\"\"Run path generation n times for each value in the list of params.\"\"\"\n",
    "    default_params = {\n",
    "        \"min_capacity\": min_capacity,\n",
    "        \"max_capacity\": max_capacity,\n",
    "        \"n_nodes\": n_nodes,\n",
    "        \"n_edges\": n_edges,\n",
    "        \"source\": source,\n",
    "        \"destination\": destination,\n",
    "        \"n_initial_paths\": 1,\n",
    "        \"precision\": precision,\n",
    "        \"max_iter\": max_iter,\n",
    "        \"solver\": solver,\n",
    "    }\n",
    "    results = []\n",
    "\n",
    "    # Path Generation for each value\n",
    "    for param in params:\n",
    "        for k, v in param.items():\n",
    "            default_params[k] = v\n",
    "        n_iterations = []\n",
    "        max_flows = []\n",
    "        obj_vals = []\n",
    "        durations = []\n",
    "\n",
    "        # Repeat 5 times using the first generated same graph\n",
    "        for i in range(n):\n",
    "            start_time = time.time_ns()\n",
    "            lpProb, _graph, reduced_cost, max_flow = path_generation(**default_params)\n",
    "            total_time = time.time_ns() - start_time\n",
    "\n",
    "            n_iterations.append(len(reduced_cost))\n",
    "            max_flows.append(max_flow)\n",
    "            obj_vals.append(lpProb.objective.value())\n",
    "            durations.append(total_time)\n",
    "\n",
    "        results.append(\n",
    "            {\n",
    "                \"n_iterations\": n_iterations,\n",
    "                \"networkx_maximum_flow\": max_flows,\n",
    "                \"objective_value\": obj_vals,\n",
    "                \"duration_ns\": durations,\n",
    "            }\n",
    "        )\n",
    "\n",
    "    return results"
   ]
  },
  {
   "cell_type": "markdown",
   "metadata": {},
   "source": [
    "### Number of nodes"
   ]
  },
  {
   "cell_type": "code",
   "execution_count": 355,
   "metadata": {},
   "outputs": [
    {
     "data": {
      "text/plain": [
       "(1000, 4995)"
      ]
     },
     "execution_count": 355,
     "metadata": {},
     "output_type": "execute_result"
    }
   ],
   "source": [
    "min_capacity = 5\n",
    "max_capacity = 15\n",
    "density = 0.005\n",
    "n_nodes = 1 * 10**3\n",
    "n_edges = int(density * (n_nodes * (n_nodes - 1)))\n",
    "source, destination = 0, 1  # don't need to randomize (graph is randomized)\n",
    "precision = 4\n",
    "max_iter = 1000\n",
    "solver = pl.GUROBI(msg=False)\n",
    "n_nodes, n_edges"
   ]
  },
  {
   "cell_type": "code",
   "execution_count": null,
   "metadata": {
    "tags": []
   },
   "outputs": [],
   "source": [
    "params = [\n",
    "    {\n",
    "        \"n_nodes\": 10 * j * 10**i,\n",
    "        \"n_edges\": int(density * (10 * j * 10**i * (10 * j * 10**i - 1))),\n",
    "    }\n",
    "    for i in range(2, 3)\n",
    "    for j in range(1, 10)\n",
    "]\n",
    "n_nodes_results = run_n_times(\n",
    "    params=params,\n",
    "    n=5,\n",
    ")"
   ]
  },
  {
   "cell_type": "code",
   "execution_count": 357,
   "metadata": {
    "tags": []
   },
   "outputs": [
    {
     "data": {
      "image/png": "[encoded data removed]",
      "text/plain": [
       "<Figure size 1000x1000 with 1 Axes>"
      ]
     },
     "metadata": {},
     "output_type": "display_data"
    },
    {
     "data": {
      "image/png": "[encoded data removed]",
      "text/plain": [
       "<Figure size 1000x1000 with 1 Axes>"
      ]
     },
     "metadata": {},
     "output_type": "display_data"
    }
   ],
   "source": [
    "results_df = pd.DataFrame(n_nodes_results)\n",
    "plots = []\n",
    "for col in results_df.drop([\"networkx_maximum_flow\", \"objective_value\"], axis=1):\n",
    "    df = results_df[col].explode().reset_index()\n",
    "    df = df.rename(columns={\"index\": \"n_nodes\"})\n",
    "    df[\"n_nodes\"] += 1\n",
    "    df[\"n_nodes\"] *= 1000\n",
    "\n",
    "    fig, ax = plt.subplots(figsize=(10, 10))\n",
    "    ax = sns.boxplot(\n",
    "        data=df,\n",
    "        x=\"n_nodes\",\n",
    "        y=col,\n",
    "        ax=ax,\n",
    "    )\n",
    "    plt.savefig(f\"n_nodes_{col}.png\")"
   ]
  },
  {
   "cell_type": "markdown",
   "metadata": {},
   "source": [
    "### Edge density"
   ]
  },
  {
   "cell_type": "code",
   "execution_count": 396,
   "metadata": {},
   "outputs": [
    {
     "data": {
      "text/plain": [
       "(1000, 4995)"
      ]
     },
     "execution_count": 396,
     "metadata": {},
     "output_type": "execute_result"
    }
   ],
   "source": [
    "min_capacity = 5\n",
    "max_capacity = 15\n",
    "density = 0.005\n",
    "n_nodes = 1000\n",
    "n_edges = int(density * (n_nodes * (n_nodes - 1)))\n",
    "source, destination = 0, 1  # don't need to randomize (graph is randomized)\n",
    "precision = 4\n",
    "max_iter = 1000\n",
    "solver = pl.GUROBI(msg=False)\n",
    "n_nodes, n_edges"
   ]
  },
  {
   "cell_type": "code",
   "execution_count": null,
   "metadata": {
    "tags": []
   },
   "outputs": [],
   "source": [
    "vals = np.arange(0.005, 0.05, 0.001)\n",
    "params = [\n",
    "    {\"n_nodes\": n_nodes, \"n_edges\": int(density * (n_nodes * (n_nodes - 1)))}\n",
    "    for density in vals\n",
    "]\n",
    "n_nodes_results = run_n_times(\n",
    "    params=params,\n",
    "    n=5,\n",
    ")"
   ]
  },
  {
   "cell_type": "code",
   "execution_count": 421,
   "metadata": {
    "tags": []
   },
   "outputs": [
    {
     "data": {
      "image/png": "[encoded data removed]",
      "text/plain": [
       "<Figure size 1000x1000 with 1 Axes>"
      ]
     },
     "metadata": {},
     "output_type": "display_data"
    },
    {
     "data": {
      "image/png": "[encoded data removed]",
      "text/plain": [
       "<Figure size 1000x1000 with 1 Axes>"
      ]
     },
     "metadata": {},
     "output_type": "display_data"
    }
   ],
   "source": [
    "results_df = pd.DataFrame(n_nodes_results)\n",
    "plots = []\n",
    "for col in results_df.drop([\"networkx_maximum_flow\", \"objective_value\"], axis=1):\n",
    "    df = results_df[col].explode().reset_index()\n",
    "    df[\"density\"] = np.around(np.repeat(vals, 5), 3)\n",
    "\n",
    "    fig, ax = plt.subplots(figsize=(10, 10))\n",
    "    ax = sns.boxplot(\n",
    "        data=df,\n",
    "        x=\"density\",\n",
    "        y=col,\n",
    "        ax=ax,\n",
    "    )\n",
    "    plt.xticks(rotation=55)\n",
    "    plt.savefig(f\"density_{col}.png\")"
   ]
  }
 ],
 "metadata": {
  "authors": [
   {
    "name": "Pascal Quach"
   },
   {
    "name": "Maxime Delboulle"
   }
  ],
  "kernelspec": {
   "display_name": "Python 3 (ipykernel)",
   "language": "python",
   "name": "python3"
  },
  "language_info": {
   "codemirror_mode": {
    "name": "ipython",
    "version": 3
   },
   "file_extension": ".py",
   "mimetype": "text/x-python",
   "name": "python",
   "nbconvert_exporter": "python",
   "pygments_lexer": "ipython3",
   "version": "3.10.8"
  },
  "title": "AOS5 - Path Generation",
  "vscode": {
   "interpreter": {
    "hash": "770b5886b0b327e0fa0332c0d6b4bdee1b105ba5d5227e421d9cca75b92371f9"
   }
  }
 },
 "nbformat": 4,
 "nbformat_minor": 4
}
