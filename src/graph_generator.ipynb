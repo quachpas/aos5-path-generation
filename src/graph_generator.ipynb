{
 "cells": [
  {
   "cell_type": "code",
   "execution_count": null,
   "metadata": {},
   "outputs": [],
   "source": [
    "from networkx import maximum_flow\n",
    "from networkx import gnm_random_graph\n",
    "from networkx import draw \n",
    "from networkx import adjacency_matrix\n",
    "from networkx import all_simple_paths\n",
    "from networkx import shortest_path\n",
    "from networkx import set_edge_attributes\n",
    "import numpy as np\n",
    "import pandas as pd\n",
    "import matplotlib.pyplot as plt\n",
    "from copy import deepcopy"
   ]
  },
  {
   "cell_type": "markdown",
   "metadata": {},
   "source": [
    "# Graph"
   ]
  },
  {
   "cell_type": "code",
   "execution_count": null,
   "metadata": {},
   "outputs": [],
   "source": [
    "# Density is the proportion of edges in a full connected graph (dense graph has n(n-1) edges where n is n_nodes)\n",
    "# maximum_flow from networkx has a linear trend wrt density.\n",
    "# Column generation has an exponential trend wrt density (keep a density < 0.3 !!!)\n",
    "\n",
    "min_weight = 5\n",
    "max_weight = 15\n",
    "n_nodes = 5 * 10 ** 3\n",
    "n_edges = 249_950 \n",
    "density = n_edges / (n_nodes * (n_nodes - 1))\n",
    "print (\"density = \", density)\n",
    "source, destination = 0, 1 # don't need to randomize (graph is randomized)"
   ]
  },
  {
   "cell_type": "markdown",
   "metadata": {},
   "source": [
    "## Creates a random valuated graph"
   ]
  },
  {
   "cell_type": "code",
   "execution_count": null,
   "metadata": {},
   "outputs": [],
   "source": [
    "def modify_weights_graph (Graph, ctr_lists, new_weights) :\n",
    "    \"\"\" utility function for setting weights (dual problem of shortest path) \"\"\"\n",
    "    set_edge_attributes(Graph, 0, name=\"weight\")\n",
    "\n",
    "    set_edge_attributes(\n",
    "        Graph,\n",
    "        values = dict({edge : dual for edge, dual in zip (ctr_lists, new_weights)}),\n",
    "        name = 'weight'\n",
    "    )"
   ]
  },
  {
   "cell_type": "code",
   "execution_count": null,
   "metadata": {},
   "outputs": [],
   "source": [
    "Graph = gnm_random_graph(n_nodes, n_edges, directed=True)\n",
    "Graph_dual = deepcopy(Graph)\n",
    "\n",
    "for (u, v) in Graph.edges():\n",
    "    Graph.edges[u,v]['weight'] = np.random.uniform(min_weight, max_weight)"
   ]
  },
  {
   "cell_type": "code",
   "execution_count": null,
   "metadata": {},
   "outputs": [],
   "source": [
    "Adj_matrix = adjacency_matrix(Graph)\n",
    "Adj_matrix.shape"
   ]
  },
  {
   "cell_type": "code",
   "execution_count": null,
   "metadata": {},
   "outputs": [],
   "source": [
    "%%time\n",
    "flow, flow_dict = maximum_flow(Graph, _s = source, _t = destination, capacity='weight')\n",
    "\n",
    "# total flow, flow first node\n",
    "# flow, flow_dict[0]"
   ]
  },
  {
   "cell_type": "markdown",
   "metadata": {},
   "source": [
    "Maximum flow is equivalent to maximum path generation **if we consider all possible paths**"
   ]
  },
  {
   "cell_type": "markdown",
   "metadata": {},
   "source": [
    "# Column Generation"
   ]
  },
  {
   "cell_type": "code",
   "execution_count": null,
   "metadata": {},
   "outputs": [],
   "source": [
    "import pulp as pl"
   ]
  },
  {
   "cell_type": "code",
   "execution_count": null,
   "metadata": {},
   "outputs": [],
   "source": [
    "solver = pl.getSolver('CPLEX_CMD', timeLimit=10)\n",
    "solver.path"
   ]
  },
  {
   "cell_type": "code",
   "execution_count": null,
   "metadata": {},
   "outputs": [],
   "source": [
    "def get_n_paths (Graph, source, destination, max_iter = 16):\n",
    "    \"\"\" Get the max_iter paths of all_simple_paths generator: Graph: source --|> destination \"\"\"\n",
    "    list_ = []\n",
    "    for (index, path) in enumerate(all_simple_paths(Graph, source, destination, cutoff=10)):\n",
    "        list_.append(path)\n",
    "        if (index >= max_iter - 1):\n",
    "            return (list_)\n",
    "    return (list_)"
   ]
  },
  {
   "cell_type": "code",
   "execution_count": null,
   "metadata": {
    "tags": []
   },
   "outputs": [],
   "source": [
    "# affichage de n chemins \n",
    "len(get_n_paths(Graph, source, destination, max_iter=50))"
   ]
  },
  {
   "cell_type": "markdown",
   "metadata": {},
   "source": [
    "## Master"
   ]
  },
  {
   "cell_type": "code",
   "execution_count": null,
   "metadata": {},
   "outputs": [],
   "source": [
    "# Etape 0 INIT THE MASTER PROBLEM\n",
    "\n",
    "lpProb = pl.LpProblem(\"path_generation\", pl.LpMaximize)\n",
    "lpProb += 0 # initiate the objective function to 0 (necessary line of code)"
   ]
  },
  {
   "cell_type": "code",
   "execution_count": null,
   "metadata": {},
   "outputs": [],
   "source": [
    "# useful to know the final paths at the end and calculate the shortest path for dual problem\n",
    "path2idx = {}\n",
    "ctr_lists = []\n",
    "path_count = 0"
   ]
  },
  {
   "cell_type": "code",
   "execution_count": null,
   "metadata": {},
   "outputs": [],
   "source": [
    "def add_paths (lpProb, paths, path_count, path2idx):\n",
    "    \"\"\" Add paths in lpPoblem (new variables Xp and new constraints or terms in constraints Ce) \"\"\"\n",
    "\n",
    "    # pour chaque path ajouter une variable et ses coef. dans les contraintes\n",
    "    for path in paths :\n",
    "\n",
    "        # add a var path\n",
    "        prov = pl.LpVariable(\"X\"+str(path_count), 0, max_weight, pl.LpContinuous)\n",
    "        lpProb.objective.addterm(prov, 1)\n",
    "        \n",
    "        # for each edge on the path, search the associated constraint (indexed by edge)\n",
    "        for index in range(len(path)-1) :\n",
    "            index_ctr = str((path[index], path[index + 1]))\n",
    "            if index_ctr in lpProb.constraints:\n",
    "                lpProb.constraints[index_ctr].addterm(prov, 1) # add term in constraint\n",
    "            else:\n",
    "                lpProb.constraints[index_ctr] = prov <= Graph.edges[(path[index], path[index + 1])]\n",
    "                ctr_lists.append((path[index], path[index + 1]))\n",
    "        \n",
    "        path2idx[path_count] = str(path)\n",
    "        path_count += 1\n",
    "    return (path_count, path2idx)"
   ]
  },
  {
   "cell_type": "code",
   "execution_count": null,
   "metadata": {},
   "outputs": [],
   "source": [
    "path_count, path2idx = add_paths (lpProb, get_n_paths (Graph, source, destination, max_iter = 1), path_count, path2idx)"
   ]
  },
  {
   "cell_type": "code",
   "execution_count": null,
   "metadata": {},
   "outputs": [],
   "source": [
    "# solver = pl.CPLEX_PY()\n",
    "result = lpProb.solve()\n",
    "# result = lpProb.solve(pl.GUROBI_CMD(options=[(\"MIPgap\", 0.9)]))"
   ]
  },
  {
   "cell_type": "markdown",
   "metadata": {},
   "source": [
    "## Dual variables"
   ]
  },
  {
   "cell_type": "code",
   "execution_count": null,
   "metadata": {},
   "outputs": [],
   "source": [
    "def get_duals(lpPb):\n",
    "    \"\"\" Get the dual variables from a problem Pulp \"\"\"\n",
    "    return [c.pi for _, c in list(lpPb.constraints.items())]"
   ]
  },
  {
   "cell_type": "markdown",
   "metadata": {},
   "source": [
    "## Iterative procedure"
   ]
  },
  {
   "cell_type": "code",
   "execution_count": null,
   "metadata": {
    "jupyter": {
     "outputs_hidden": true
    },
    "tags": []
   },
   "outputs": [],
   "source": [
    "%%time\n",
    "\n",
    "go_on = True\n",
    "\n",
    "while go_on :\n",
    "    # search of path q (dual problem)\n",
    "    duals = get_duals(lpProb)\n",
    "    modify_weights_graph (Graph_dual, ctr_lists, duals)\n",
    "    path_q = shortest_path(Graph_dual, source, destination, weight=\"weight\")\n",
    "\n",
    "    # compute reduced cost for dual\n",
    "    reduced_cost = 1\n",
    "    for e in range(len(path_q)-1) :\n",
    "        try :\n",
    "            reduced_cost -= lpProb.constraints[str((path_q[e], path_q[e + 1]))].pi\n",
    "        except KeyError : # <|-- constraint does not exist (so dual == 0)\n",
    "            pass\n",
    "\n",
    "    # stop procedure ?\n",
    "    if reduced_cost > 0 : # add path q in lp Problem\n",
    "        path_count, path2idx = add_paths(lpProb, [path_q], path_count, path2idx)\n",
    "        lpProb.solve()\n",
    "    else :\n",
    "        go_on = False"
   ]
  },
  {
   "cell_type": "code",
   "execution_count": null,
   "metadata": {},
   "outputs": [],
   "source": [
    "for i in range(1) :\n",
    "    print (i)"
   ]
  },
  {
   "cell_type": "code",
   "execution_count": null,
   "metadata": {},
   "outputs": [],
   "source": [
    "flow = 0\n",
    "for var in lpProb.variables():\n",
    "    flow += var.value()\n",
    "print(flow)"
   ]
  },
  {
   "cell_type": "code",
   "execution_count": null,
   "metadata": {
    "tags": []
   },
   "outputs": [],
   "source": [
    "paths = {path2idx[int(str(var)[1:])] : var.value() for var in lpProb.variables() if var.value() > 0}\n",
    "paths"
   ]
  }
 ],
 "metadata": {
  "kernelspec": {
   "display_name": "Python 3 (ipykernel)",
   "language": "python",
   "name": "python3"
  },
  "language_info": {
   "codemirror_mode": {
    "name": "ipython",
    "version": 3
   },
   "file_extension": ".py",
   "mimetype": "text/x-python",
   "name": "python",
   "nbconvert_exporter": "python",
   "pygments_lexer": "ipython3",
   "version": "3.10.8"
  },
  "vscode": {
   "interpreter": {
    "hash": "770b5886b0b327e0fa0332c0d6b4bdee1b105ba5d5227e421d9cca75b92371f9"
   }
  }
 },
 "nbformat": 4,
 "nbformat_minor": 4
}
