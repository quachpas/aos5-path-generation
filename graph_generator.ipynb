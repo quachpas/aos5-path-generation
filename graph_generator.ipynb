{
 "cells": [
  {
   "cell_type": "code",
   "execution_count": null,
   "metadata": {},
   "outputs": [],
   "source": [
    "%load_ext jupyter_black"
   ]
  },
  {
   "cell_type": "code",
   "execution_count": null,
   "metadata": {},
   "outputs": [],
   "source": [
    "import numpy as np\n",
    "import pandas as pd\n",
    "import matplotlib.pyplot as plt\n",
    "import networkx as nx\n",
    "import pulp as pl\n",
    "\n",
    "from copy import deepcopy"
   ]
  },
  {
   "cell_type": "markdown",
   "metadata": {},
   "source": [
    "# Creates a random valuated graph"
   ]
  },
  {
   "cell_type": "code",
   "execution_count": null,
   "metadata": {},
   "outputs": [],
   "source": [
    "def get_graphs(min_capacity, max_capacity, n_nodes, n_edges):\n",
    "    graph = nx.gnm_random_graph(n_nodes, n_edges, directed=True)\n",
    "    dual_graph = deepcopy(graph)\n",
    "\n",
    "    for (u, v) in graph.edges():\n",
    "        graph.edges[u, v][\"capacity\"] = np.random.uniform(min_capacity, max_capacity)\n",
    "\n",
    "    return graph, dual_graph"
   ]
  },
  {
   "cell_type": "markdown",
   "metadata": {},
   "source": [
    "# Column Generation"
   ]
  },
  {
   "cell_type": "code",
   "execution_count": null,
   "metadata": {},
   "outputs": [],
   "source": [
    "def get_n_paths(graph, source, destination, max_iter=16):\n",
    "    \"\"\"Get the max_iter paths of all_simple_paths generator: Graph: source --|> destination\"\"\"\n",
    "    list_ = []\n",
    "    for (index, path) in enumerate(\n",
    "        nx.all_simple_paths(graph, source, destination, cutoff=10)\n",
    "    ):\n",
    "        list_.append(path)\n",
    "        if index >= max_iter - 1:\n",
    "            return list_\n",
    "    return list_"
   ]
  },
  {
   "cell_type": "markdown",
   "metadata": {},
   "source": [
    "## Master"
   ]
  },
  {
   "cell_type": "markdown",
   "metadata": {},
   "source": [
    "### Initialise the master problem"
   ]
  },
  {
   "cell_type": "markdown",
   "metadata": {},
   "source": [
    "We consider a network with:\n",
    "- $\\mathcal{V}$, a set of nodes\n",
    "- $\\mathcal{E}$, a set of directed edges with capacities $C_e, e\\in \\mathcal{E}$\n",
    "- $d$, a connection/demand, with predefined path set $\\mathcal{P}_d$ between nodes $s_d$ and $t_d$\n",
    "- Any path $p$ is represented by a set of edges, i.e. $p\\subseteq \\mathcal{E}$"
   ]
  },
  {
   "cell_type": "markdown",
   "metadata": {},
   "source": [
    "We denote by $x_p$ the flow allocated to a path $p\\in \\mathcal{P}_d$, and $\\pi_e$ the associated dual variables.\n",
    "\n",
    "We wish to find feasible flows for each path that maximizes the sum of all flows $\\sum_{p\\in \\mathcal{P}_d} x_p$, i.e. the maximum flow problem formulated through path variables instead of flow variables on edges."
   ]
  },
  {
   "cell_type": "markdown",
   "metadata": {},
   "source": [
    "$$\n",
    "\\begin{align}\n",
    "\\max & \\sum_{p\\in \\mathcal{P}_d}\\\\\n",
    "\\text{s.t.} & \\sum_{p\\in \\mathcal{P}_d, e\\in p} x_p \\leq C_e,\\quad \\forall e\\in \\mathcal{E}\\, (\\pi_e)\\\\\n",
    "& x_p \\geq 0,\\quad p\\in \\mathcal{P}_d\n",
    "\\end{align}\n",
    "$$"
   ]
  },
  {
   "cell_type": "markdown",
   "metadata": {},
   "source": [
    "For any given path $q\\in D$, with $D$ the columns out of the optimal basis $B$, we wish to maximize the reduced cost \n",
    "$$\n",
    "1 - \\sum_{e\\in q} \\pi_e,\n",
    "$$\n",
    "i.e., minimizing $\\sum_{e\\in q}$, that is finding the shortest path $q$ weighted with $\\pi$."
   ]
  },
  {
   "cell_type": "markdown",
   "metadata": {},
   "source": [
    "N.B.: The problem of maximum flow is equivalent to maximum path generation **if we consider all possible paths**"
   ]
  },
  {
   "cell_type": "markdown",
   "metadata": {},
   "source": [
    "In this way, we can iteratively add paths to our initial set $\\mathcal{P}_d$ until the solution given by the master problem is optimal, i.e. the reduced cost is negative:\n",
    "\n",
    "1. Initialise the master problem (MP) with a set $\\mathcal{P}_d$ containing paths from $s_d$ to $t_d$\n",
    "2. Solve (MP) and note the obtained dual variables $\\pi$\n",
    "3. Compute the shortest path $q$ from $s_d$ to $t_d$\n",
    "4. Compute the reduced cost $r_q=1 - \\sum_{e\\in q}\\pi_e$\n",
    "    1. If $r_q \\geq 0$, then add $q$ to $\\mathcal{P}_d$, and continue from 2)\n",
    "    2. Otherwise, stop. The solution is optimal"
   ]
  },
  {
   "cell_type": "code",
   "execution_count": null,
   "metadata": {},
   "outputs": [],
   "source": [
    "def add_paths(graph, max_capacity, lpProb, paths, path_count, path2idx):\n",
    "    \"\"\"Add paths in lpProb (new variables Xp and new constraints or terms in constraints Ce)\"\"\"\n",
    "\n",
    "    # For every path add one variable, and its constraints\n",
    "    for path in paths:\n",
    "\n",
    "        # add a variable\n",
    "        prov = pl.LpVariable(\n",
    "            name=\"X\" + str(path_count),\n",
    "            lowBound=0,\n",
    "            upBound=max_capacity,\n",
    "            cat=pl.LpContinuous,\n",
    "        )\n",
    "        lpProb.objective.addterm(prov, 1)\n",
    "\n",
    "        # for each edge on the path, search the associated constraint (indexed by edge)\n",
    "        for index in range(len(path) - 1):\n",
    "            index_ctr = str((path[index], path[index + 1]))\n",
    "            if index_ctr in lpProb.constraints:\n",
    "                lpProb.constraints[index_ctr].addterm(prov, 1)  # add term in constraint\n",
    "            else:\n",
    "                lpProb.constraints[index_ctr] = (\n",
    "                    prov <= graph.edges[(path[index], path[index + 1])]\n",
    "                )\n",
    "                ctr_lists.append((path[index], path[index + 1]))\n",
    "\n",
    "        path2idx[path_count] = str(path)\n",
    "        path_count += 1\n",
    "    return (path_count, path2idx)"
   ]
  },
  {
   "cell_type": "markdown",
   "metadata": {},
   "source": [
    "### Dual problem"
   ]
  },
  {
   "cell_type": "code",
   "execution_count": null,
   "metadata": {},
   "outputs": [],
   "source": [
    "def get_duals(lpPb):\n",
    "    \"\"\"Get the dual variables from a problem Pulp\"\"\"\n",
    "    return [c.pi for _, c in list(lpPb.constraints.items())]"
   ]
  },
  {
   "cell_type": "markdown",
   "metadata": {},
   "source": [
    "### Graph Params"
   ]
  },
  {
   "cell_type": "code",
   "execution_count": null,
   "metadata": {},
   "outputs": [],
   "source": [
    "min_capacity = 5\n",
    "max_capacity = 15\n",
    "density = 0.05\n",
    "n_nodes = 5 * 10**1\n",
    "n_edges = density * (n_nodes * (n_nodes - 1))\n",
    "source, destination = 0, 1  # don't need to randomize (graph is randomized)\n",
    "density, n_nodes, n_edges"
   ]
  },
  {
   "cell_type": "markdown",
   "metadata": {},
   "source": [
    "### Iterative procedure"
   ]
  },
  {
   "cell_type": "markdown",
   "metadata": {},
   "source": [
    "1. Density is the proportion of edges in a full connected graph. A dense graph has $n(n-1)$ edges where $n$ is the number of nodes.\n",
    "2. `maximum_flow` from networkx has a linear trend w.r.t. the graph density.\n",
    "3. Column generation has an exponential trend w.r.t. density (keep a density < 0.3 !!!)"
   ]
  },
  {
   "cell_type": "code",
   "execution_count": null,
   "metadata": {},
   "outputs": [],
   "source": [
    "def modify_weights_graph(graph, ctr_lists, new_weights):\n",
    "    \"\"\"Utility function for setting weights (dual problem of shortest path)\"\"\"\n",
    "    nx.set_edge_attributes(graph, 0, name=\"weight\")\n",
    "\n",
    "    nx.set_edge_attributes(\n",
    "        graph,\n",
    "        values={edge: dual for edge, dual in zip(ctr_lists, new_weights)},\n",
    "        name=\"weight\",\n",
    "    )"
   ]
  },
  {
   "cell_type": "code",
   "execution_count": null,
   "metadata": {
    "tags": []
   },
   "outputs": [],
   "source": [
    "lpProb = pl.LpProblem(\n",
    "    name=\"path_generation\",\n",
    "    sense=pl.LpMaximize,\n",
    ")\n",
    "lpProb += 0  # initiate the objective function to 0 (necessary line of code)\n",
    "\n",
    "path2idx = (\n",
    "    {}\n",
    ")  # useful to know the final paths at the end and calculate the shortest path for dual problem\n",
    "ctr_lists = []\n",
    "path_count = 0\n",
    "graph, dual_graph = get_graphs(min_capacity, max_capacity, n_nodes, n_edges)\n",
    "\n",
    "path_count, path2idx = add_paths(\n",
    "    graph=graph,\n",
    "    lpProb=lpProb,\n",
    "    max_capacity=max_capacity,\n",
    "    paths=get_n_paths(graph, source, destination, max_iter=1),\n",
    "    path_count=path_count,\n",
    "    path2idx=path2idx,\n",
    ")\n",
    "solver = pl.PULP_CBC_CMD(msg=False)\n",
    "result = lpProb.solve(solver)"
   ]
  },
  {
   "cell_type": "code",
   "execution_count": null,
   "metadata": {
    "tags": []
   },
   "outputs": [],
   "source": [
    "go_on = True\n",
    "reduced_cost_arr = np.array([])\n",
    "reduced_cost = 1\n",
    "\n",
    "while go_on:\n",
    "    # search of path q (dual problem)\n",
    "    duals = get_duals(lpProb)\n",
    "    modify_weights_graph(dual_graph, ctr_lists, duals)\n",
    "    path_q = nx.shortest_path(dual_graph, source, destination, weight=\"weight\")\n",
    "\n",
    "    # compute reduced cost for dual\n",
    "\n",
    "    for e in range(len(path_q) - 1):\n",
    "        try:\n",
    "            reduced_cost -= lpProb.constraints[str((path_q[e], path_q[e + 1]))].pi\n",
    "        except KeyError:  # <|-- constraint does not exist (so dual == 0)\n",
    "\n",
    "            pass\n",
    "\n",
    "    # stop procedure ?\n",
    "    if reduced_cost > 0:  # add path q in lp Problem\n",
    "        reduced_cost_arr = np.append(reduced_cost_arr, reduced_cost)\n",
    "        path_count, path2idx = add_paths(\n",
    "            graph=graph,\n",
    "            lpProb=lpProb,\n",
    "            max_capacity=max_capacity,\n",
    "            paths=[path_q],\n",
    "            path_count=path_count,\n",
    "            path2idx=path2idx,\n",
    "        )\n",
    "        lpProb.solve(solver)\n",
    "    else:\n",
    "        go_on = False"
   ]
  },
  {
   "cell_type": "code",
   "execution_count": null,
   "metadata": {},
   "outputs": [],
   "source": [
    "reduced_cost_arr"
   ]
  },
  {
   "cell_type": "code",
   "execution_count": null,
   "metadata": {},
   "outputs": [],
   "source": [
    "flow = 0\n",
    "for var in lpProb.variables():\n",
    "    flow += var.value()\n",
    "print(flow)"
   ]
  },
  {
   "cell_type": "code",
   "execution_count": null,
   "metadata": {
    "tags": []
   },
   "outputs": [],
   "source": [
    "paths = {\n",
    "    path2idx[int(str(var)[1:])]: var.value()\n",
    "    for var in lpProb.variables()\n",
    "    if var.value() > 0\n",
    "}\n",
    "paths"
   ]
  },
  {
   "cell_type": "code",
   "execution_count": null,
   "metadata": {},
   "outputs": [],
   "source": [
    "nx.maximum_flow(graph, 0, 1)"
   ]
  }
 ],
 "metadata": {
  "kernelspec": {
   "display_name": "Python 3 (ipykernel)",
   "language": "python",
   "name": "python3"
  },
  "language_info": {
   "codemirror_mode": {
    "name": "ipython",
    "version": 3
   },
   "file_extension": ".py",
   "mimetype": "text/x-python",
   "name": "python",
   "nbconvert_exporter": "python",
   "pygments_lexer": "ipython3",
   "version": "3.10.8"
  },
  "vscode": {
   "interpreter": {
    "hash": "770b5886b0b327e0fa0332c0d6b4bdee1b105ba5d5227e421d9cca75b92371f9"
   }
  }
 },
 "nbformat": 4,
 "nbformat_minor": 4
}
