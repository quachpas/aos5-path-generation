{
 "cells": [
  {
   "cell_type": "code",
   "execution_count": null,
   "metadata": {},
   "outputs": [],
   "source": [
    "%load_ext jupyter_black"
   ]
  },
  {
   "cell_type": "code",
   "execution_count": null,
   "metadata": {},
   "outputs": [],
   "source": [
    "import numpy as np\n",
    "import pandas as pd\n",
    "import matplotlib.pyplot as plt\n",
    "import networkx as nx\n",
    "import pulp as pl\n",
    "import cplex\n",
    "\n",
    "from copy import deepcopy"
   ]
  },
  {
   "cell_type": "markdown",
   "metadata": {},
   "source": [
    "# Graph"
   ]
  },
  {
   "cell_type": "markdown",
   "metadata": {},
   "source": [
    "1. Density is the proportion of edges in a full connected graph. A dense graph has $n(n-1)$ edges where $n$ is the number of nodes.\n",
    "2. `maximum_flow` from networkx has a linear trend w.r.t. the graph density.\n",
    "3. Column generation has an exponential trend w.r.t. density (keep a density < 0.3 !!!)"
   ]
  },
  {
   "cell_type": "code",
   "execution_count": null,
   "metadata": {},
   "outputs": [],
   "source": [
    "min_weight = 5\n",
    "max_weight = 15\n",
    "n_nodes = 5 * 10**3\n",
    "n_edges = 249_950\n",
    "density = n_edges / (n_nodes * (n_nodes - 1))\n",
    "print(\"density = \", density)\n",
    "source, destination = 0, 1  # don't need to randomize (graph is randomized)"
   ]
  },
  {
   "cell_type": "markdown",
   "metadata": {},
   "source": [
    "## Creates a random valuated graph"
   ]
  },
  {
   "cell_type": "code",
   "execution_count": null,
   "metadata": {},
   "outputs": [],
   "source": [
    "def modify_weights_graph(graph, ctr_lists, new_weights):\n",
    "    \"\"\"Utility function for setting weights (dual problem of shortest path)\"\"\"\n",
    "    nx.set_edge_attributes(graph, 0, name=\"weight\")\n",
    "\n",
    "    nx.set_edge_attributes(\n",
    "        graph,\n",
    "        values={edge: dual for edge, dual in zip(ctr_lists, new_weights)},\n",
    "        name=\"weight\",\n",
    "    )"
   ]
  },
  {
   "cell_type": "code",
   "execution_count": null,
   "metadata": {},
   "outputs": [],
   "source": [
    "graph = nx.gnm_random_graph(n_nodes, n_edges, directed=True)\n",
    "dual_graph = deepcopy(graph)\n",
    "\n",
    "for (u, v) in graph.edges():\n",
    "    graph.edges[u, v][\"weight\"] = np.random.uniform(min_weight, max_weight)"
   ]
  },
  {
   "cell_type": "code",
   "execution_count": null,
   "metadata": {},
   "outputs": [],
   "source": [
    "adj_matrix = nx.adjacency_matrix(graph)\n",
    "adj_matrix.shape"
   ]
  },
  {
   "cell_type": "markdown",
   "metadata": {},
   "source": [
    "N.B.: The problem of maximum flow is equivalent to maximum path generation **if we consider all possible paths**"
   ]
  },
  {
   "cell_type": "markdown",
   "metadata": {},
   "source": [
    "# Column Generation"
   ]
  },
  {
   "cell_type": "code",
   "execution_count": null,
   "metadata": {},
   "outputs": [],
   "source": [
    "def get_n_paths(graph, source, destination, max_iter=16):\n",
    "    \"\"\"Get the max_iter paths of all_simple_paths generator: Graph: source --|> destination\"\"\"\n",
    "    list_ = []\n",
    "    for (index, path) in enumerate(\n",
    "        nx.all_simple_paths(graph, source, destination, cutoff=10)\n",
    "    ):\n",
    "        list_.append(path)\n",
    "        if index >= max_iter - 1:\n",
    "            return list_\n",
    "    return list_"
   ]
  },
  {
   "cell_type": "markdown",
   "metadata": {},
   "source": [
    "### Affichage de $n$ chemins"
   ]
  },
  {
   "cell_type": "code",
   "execution_count": null,
   "metadata": {
    "tags": []
   },
   "outputs": [],
   "source": [
    "len(get_n_paths(graph, source, destination, max_iter=50))"
   ]
  },
  {
   "cell_type": "markdown",
   "metadata": {},
   "source": [
    "## Master"
   ]
  },
  {
   "cell_type": "markdown",
   "metadata": {},
   "source": [
    "### Initialise the master problem"
   ]
  },
  {
   "cell_type": "code",
   "execution_count": null,
   "metadata": {},
   "outputs": [],
   "source": [
    "def add_paths(graph, lpProb, paths, path_count, path2idx):\n",
    "    \"\"\"Add paths in lpProb (new variables Xp and new constraints or terms in constraints Ce)\"\"\"\n",
    "\n",
    "    # For every path add one variable, and its constraints\n",
    "    for path in paths:\n",
    "\n",
    "        # add a variable\n",
    "        prov = pl.LpVariable(\"X\" + str(path_count), 0, max_weight, pl.LpContinuous)\n",
    "        lpProb.objective.addterm(prov, 1)\n",
    "\n",
    "        # for each edge on the path, search the associated constraint (indexed by edge)\n",
    "        for index in range(len(path) - 1):\n",
    "            index_ctr = str((path[index], path[index + 1]))\n",
    "            if index_ctr in lpProb.constraints:\n",
    "                lpProb.constraints[index_ctr].addterm(prov, 1)  # add term in constraint\n",
    "            else:\n",
    "                lpProb.constraints[index_ctr] = (\n",
    "                    prov <= graph.edges[(path[index], path[index + 1])]\n",
    "                )\n",
    "                ctr_lists.append((path[index], path[index + 1]))\n",
    "\n",
    "        path2idx[path_count] = str(path)\n",
    "        path_count += 1\n",
    "    return (path_count, path2idx)"
   ]
  },
  {
   "cell_type": "markdown",
   "metadata": {},
   "source": [
    "### Dual problem"
   ]
  },
  {
   "cell_type": "code",
   "execution_count": null,
   "metadata": {},
   "outputs": [],
   "source": [
    "def get_duals(lpPb):\n",
    "    \"\"\"Get the dual variables from a problem Pulp\"\"\"\n",
    "    return [c.pi for _, c in list(lpPb.constraints.items())]"
   ]
  },
  {
   "cell_type": "markdown",
   "metadata": {},
   "source": [
    "### Iterative procedure"
   ]
  },
  {
   "cell_type": "code",
   "execution_count": null,
   "metadata": {
    "tags": []
   },
   "outputs": [],
   "source": [
    "lpProb = pl.LpProblem(\n",
    "    name=\"path_generation\",\n",
    "    sense=pl.LpMaximize,\n",
    ")\n",
    "lpProb += 0  # initiate the objective function to 0 (necessary line of code)\n",
    "\n",
    "path2idx = (\n",
    "    {}\n",
    ")  # useful to know the final paths at the end and calculate the shortest path for dual problem\n",
    "ctr_lists = []\n",
    "path_count = 0\n",
    "\n",
    "path_count, path2idx = add_paths(\n",
    "    graph,\n",
    "    lpProb,\n",
    "    get_n_paths(graph, source, destination, max_iter=1),\n",
    "    path_count,\n",
    "    path2idx,\n",
    ")\n",
    "solver = pl.PULP_CBC_CMD(msg=False)\n",
    "result = lpProb.solve(solver)"
   ]
  },
  {
   "cell_type": "code",
   "execution_count": null,
   "metadata": {
    "tags": []
   },
   "outputs": [],
   "source": [
    "go_on = True\n",
    "reduced_cost_arr = np.array([])\n",
    "reduced_cost = 1\n",
    "\n",
    "while go_on:\n",
    "    # search of path q (dual problem)\n",
    "    duals = get_duals(lpProb)\n",
    "    modify_weights_graph(dual_graph, ctr_lists, duals)\n",
    "    path_q = nx.shortest_path(dual_graph, source, destination, weight=\"weight\")\n",
    "\n",
    "    # compute reduced cost for dual\n",
    "\n",
    "    for e in range(len(path_q) - 1):\n",
    "        try:\n",
    "            reduced_cost -= lpProb.constraints[str((path_q[e], path_q[e + 1]))].pi\n",
    "        except KeyError:  # <|-- constraint does not exist (so dual == 0)\n",
    "\n",
    "            pass\n",
    "\n",
    "    # stop procedure ?\n",
    "    if reduced_cost > 0:  # add path q in lp Problem\n",
    "        reduced_cost_arr = np.append(reduced_cost_arr, reduced_cost)\n",
    "        path_count, path2idx = add_paths(graph, lpProb, [path_q], path_count, path2idx)\n",
    "        lpProb.solve(solver)\n",
    "    else:\n",
    "        go_on = False"
   ]
  },
  {
   "cell_type": "code",
   "execution_count": null,
   "metadata": {},
   "outputs": [],
   "source": [
    "reduced_cost_arr"
   ]
  },
  {
   "cell_type": "code",
   "execution_count": null,
   "metadata": {},
   "outputs": [],
   "source": [
    "flow = 0\n",
    "for var in lpProb.variables():\n",
    "    flow += var.value()\n",
    "print(flow)"
   ]
  },
  {
   "cell_type": "code",
   "execution_count": null,
   "metadata": {
    "tags": []
   },
   "outputs": [],
   "source": [
    "paths = {\n",
    "    path2idx[int(str(var)[1:])]: var.value()\n",
    "    for var in lpProb.variables()\n",
    "    if var.value() > 0\n",
    "}\n",
    "paths"
   ]
  }
 ],
 "metadata": {
  "kernelspec": {
   "display_name": "Python 3 (ipykernel)",
   "language": "python",
   "name": "python3"
  },
  "language_info": {
   "codemirror_mode": {
    "name": "ipython",
    "version": 3
   },
   "file_extension": ".py",
   "mimetype": "text/x-python",
   "name": "python",
   "nbconvert_exporter": "python",
   "pygments_lexer": "ipython3",
   "version": "3.10.8"
  },
  "vscode": {
   "interpreter": {
    "hash": "770b5886b0b327e0fa0332c0d6b4bdee1b105ba5d5227e421d9cca75b92371f9"
   }
  }
 },
 "nbformat": 4,
 "nbformat_minor": 4
}
