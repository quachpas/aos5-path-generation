{
 "cells": [
  {
   "cell_type": "code",
   "execution_count": 97,
   "metadata": {},
   "outputs": [],
   "source": [
    "from networkx import maximum_flow\n",
    "from networkx import gnm_random_graph\n",
    "from networkx import draw \n",
    "from networkx import adjacency_matrix\n",
    "from networkx import all_simple_paths\n",
    "from networkx import shortest_path\n",
    "from networkx import set_edge_attributes\n",
    "import numpy as np\n",
    "import pandas as pd\n",
    "import matplotlib.pyplot as plt\n",
    "from copy import deepcopy"
   ]
  },
  {
   "cell_type": "markdown",
   "metadata": {},
   "source": [
    "# Graph"
   ]
  },
  {
   "cell_type": "code",
   "execution_count": 98,
   "metadata": {},
   "outputs": [],
   "source": [
    "min_weight = 5\n",
    "max_weight = 15\n",
    "n_nodes = 5 * 10 ** 4\n",
    "n_edges = 10 ** 6\n",
    "n_nodes = 5 * 10 ** 2\n",
    "n_edges = 10 ** 4\n",
    "n_nodes = 5\n",
    "n_edges = 20\n",
    "# n_nodes, n_edges = 50000, 1000000 # <|-- takes 17.5 s to compute the maximum flow in a graph\n",
    "source, destination = 0, 1 # don't need to randomize (graph is randomized)"
   ]
  },
  {
   "cell_type": "markdown",
   "metadata": {},
   "source": [
    "## Creates a random valuated graph"
   ]
  },
  {
   "cell_type": "code",
   "execution_count": 99,
   "metadata": {},
   "outputs": [],
   "source": [
    "def modify_weights_graph (Graph, new_weights) :\n",
    "    \"\"\" utility function for setting weights (dual problem of shortest path) \"\"\"\n",
    "    set_edge_attributes(\n",
    "        Graph,\n",
    "        values = dict({edge : dual for edge, dual in zip (Graph.edges, new_weights)}),\n",
    "        name = 'weight'\n",
    "    )"
   ]
  },
  {
   "cell_type": "code",
   "execution_count": 100,
   "metadata": {},
   "outputs": [],
   "source": [
    "Graph = gnm_random_graph(n_nodes, n_edges, directed=True)\n",
    "Graph_dual = deepcopy(Graph)\n",
    "\n",
    "for (u, v) in Graph.edges():\n",
    "    Graph.edges[u,v]['weight'] = np.random.uniform(min_weight, max_weight)"
   ]
  },
  {
   "cell_type": "code",
   "execution_count": 101,
   "metadata": {},
   "outputs": [
    {
     "name": "stderr",
     "output_type": "stream",
     "text": [
      "C:\\Users\\val\\AppData\\Local\\Temp\\ipykernel_15948\\2680887831.py:1: FutureWarning: adjacency_matrix will return a scipy.sparse array instead of a matrix in Networkx 3.0.\n",
      "  Adj_matrix = adjacency_matrix(Graph)\n"
     ]
    },
    {
     "data": {
      "text/plain": [
       "(5, 5)"
      ]
     },
     "execution_count": 101,
     "metadata": {},
     "output_type": "execute_result"
    }
   ],
   "source": [
    "Adj_matrix = adjacency_matrix(Graph)\n",
    "Adj_matrix.shape"
   ]
  },
  {
   "cell_type": "code",
   "execution_count": 102,
   "metadata": {},
   "outputs": [
    {
     "data": {
      "text/plain": [
       "(44.83289938518128,\n",
       " {1: 14.325785489942257,\n",
       "  2: 7.589312015460586,\n",
       "  3: 12.516568714938677,\n",
       "  4: 10.401233164839757})"
      ]
     },
     "execution_count": 102,
     "metadata": {},
     "output_type": "execute_result"
    }
   ],
   "source": [
    "flow, flow_dict = maximum_flow(Graph, _s = source, _t = destination, capacity='weight')\n",
    "# total flow, flow first node\n",
    "flow, flow_dict[0]"
   ]
  },
  {
   "cell_type": "markdown",
   "metadata": {},
   "source": [
    "Maximum flow is equivalent to maximum path generation **if we consider all possible paths**"
   ]
  },
  {
   "cell_type": "markdown",
   "metadata": {},
   "source": [
    "# Column Generation"
   ]
  },
  {
   "cell_type": "code",
   "execution_count": 103,
   "metadata": {},
   "outputs": [],
   "source": [
    "import pulp as pl"
   ]
  },
  {
   "cell_type": "code",
   "execution_count": 104,
   "metadata": {},
   "outputs": [
    {
     "data": {
      "text/plain": [
       "'cplex.exe'"
      ]
     },
     "execution_count": 104,
     "metadata": {},
     "output_type": "execute_result"
    }
   ],
   "source": [
    "solver = pl.getSolver('CPLEX_CMD', timeLimit=10)\n",
    "solver.path"
   ]
  },
  {
   "cell_type": "code",
   "execution_count": 105,
   "metadata": {},
   "outputs": [],
   "source": [
    "def get_n_paths (Graph, source, destination, max_iter = 16):\n",
    "    \"\"\" Get the max_iter paths of all_simple_paths generator: Graph: source --|> destination \"\"\"\n",
    "    list_ = []\n",
    "    for (index, path) in enumerate(all_simple_paths(Graph, source, destination, cutoff=10)):\n",
    "        list_.append(path)\n",
    "        if (index >= max_iter - 1):\n",
    "            return (list_)\n",
    "    return (list_)"
   ]
  },
  {
   "cell_type": "code",
   "execution_count": 107,
   "metadata": {
    "tags": []
   },
   "outputs": [
    {
     "data": {
      "text/plain": [
       "16"
      ]
     },
     "execution_count": 107,
     "metadata": {},
     "output_type": "execute_result"
    }
   ],
   "source": [
    "# affichage de n chemins \n",
    "len(get_n_paths(Graph, source, destination, max_iter=50))"
   ]
  },
  {
   "cell_type": "markdown",
   "metadata": {},
   "source": [
    "## Master"
   ]
  },
  {
   "cell_type": "code",
   "execution_count": 108,
   "metadata": {},
   "outputs": [],
   "source": [
    "# Etape 0 INIT THE MASTER PROBLEM\n",
    "\n",
    "lpProb = pl.LpProblem(\"path_generation\", pl.LpMaximize)\n",
    "lpProb += 0 # initiate the objective function to 0 (necessary line of code)"
   ]
  },
  {
   "cell_type": "code",
   "execution_count": 109,
   "metadata": {},
   "outputs": [],
   "source": [
    "# useful to know the final paths at the end\n",
    "path2idx = {}\n",
    "path_count = 0"
   ]
  },
  {
   "cell_type": "code",
   "execution_count": 110,
   "metadata": {},
   "outputs": [],
   "source": [
    "def add_paths (lpProb, paths, path_count, path2idx):\n",
    "    # pour chaque path ajouter une variable et ses coef. dans les contraintes\n",
    "    for path in paths :\n",
    "\n",
    "        # add a var path\n",
    "        prov = pl.LpVariable(\"X\"+str(path_count), 0, None, pl.LpContinuous)\n",
    "        lpProb.objective.addterm(prov, 1)\n",
    "        \n",
    "        # for each edge on the path, search the associated constraint (indexed by edge)\n",
    "        for index in range(len(path)-1) :\n",
    "            index_ctr = str((path[index], path[index + 1]))\n",
    "            if index_ctr in lpProb.constraints:\n",
    "                lpProb.constraints[index_ctr].addterm(prov, 1) # add term in constraint\n",
    "            else:\n",
    "                lpProb.constraints[index_ctr] = prov <= Graph.edges[(path[index], path[index + 1])]\n",
    "        \n",
    "        path2idx[path_count] = str(path)\n",
    "        path_count += 1\n",
    "    return (path_count, path2idx)"
   ]
  },
  {
   "cell_type": "code",
   "execution_count": 111,
   "metadata": {},
   "outputs": [],
   "source": [
    "path_count, path2idx = add_paths (lpProb, get_n_paths (Graph, source, destination, max_iter = 18), path_count, path2idx)"
   ]
  },
  {
   "cell_type": "code",
   "execution_count": 112,
   "metadata": {},
   "outputs": [],
   "source": [
    "# solver = pl.CPLEX_PY()\n",
    "result = lpProb.solve()\n",
    "# result = lpProb.solve(pl.GUROBI_CMD(options=[(\"MIPgap\", 0.9)]))"
   ]
  },
  {
   "cell_type": "code",
   "execution_count": 113,
   "metadata": {},
   "outputs": [
    {
     "data": {
      "text/plain": [
       "path_generation:\n",
       "MAXIMIZE\n",
       "1*X0 + 1*X1 + 1*X10 + 1*X11 + 1*X12 + 1*X13 + 1*X14 + 1*X15 + 1*X2 + 1*X3 + 1*X4 + 1*X5 + 1*X6 + 1*X7 + 1*X8 + 1*X9 + 0\n",
       "SUBJECT TO\n",
       "(0, 1): X0 <= 14.3257854899\n",
       "\n",
       "(0, 2): X1 + X2 + X3 + X4 + X5 <= 7.58931201546\n",
       "\n",
       "(2, 1): X1 + X10 + X12 + X15 + X7 <= 10.0947274599\n",
       "\n",
       "(2, 3): X13 + X2 + X3 <= 7.80422780634\n",
       "\n",
       "(3, 1): X13 + X14 + X2 + X5 + X6 <= 10.4044050004\n",
       "\n",
       "(3, 4): X10 + X3 + X9 <= 10.1186350608\n",
       "\n",
       "(4, 1): X11 + X3 + X4 + X8 + X9 <= 10.0079814349\n",
       "\n",
       "(2, 4): X4 + X5 + X8 <= 12.7523626368\n",
       "\n",
       "(4, 3): X14 + X15 + X5 <= 8.67067380674\n",
       "\n",
       "(0, 3): X10 + X6 + X7 + X8 + X9 <= 12.7314078661\n",
       "\n",
       "(3, 2): X15 + X7 + X8 <= 5.14924547057\n",
       "\n",
       "(4, 2): X10 + X12 + X13 <= 5.9211499804\n",
       "\n",
       "(0, 4): X11 + X12 + X13 + X14 + X15 <= 10.4012331648\n",
       "\n",
       "VARIABLES\n",
       "X0 Continuous\n",
       "X1 Continuous\n",
       "X10 Continuous\n",
       "X11 Continuous\n",
       "X12 Continuous\n",
       "X13 Continuous\n",
       "X14 Continuous\n",
       "X15 Continuous\n",
       "X2 Continuous\n",
       "X3 Continuous\n",
       "X4 Continuous\n",
       "X5 Continuous\n",
       "X6 Continuous\n",
       "X7 Continuous\n",
       "X8 Continuous\n",
       "X9 Continuous"
      ]
     },
     "execution_count": 113,
     "metadata": {},
     "output_type": "execute_result"
    }
   ],
   "source": [
    "# affichage du MASTER PROBLEM\n",
    "lpProb"
   ]
  },
  {
   "cell_type": "markdown",
   "metadata": {},
   "source": [
    "## Dual variables"
   ]
  },
  {
   "cell_type": "code",
   "execution_count": 114,
   "metadata": {},
   "outputs": [],
   "source": [
    "def get_duals(lpPb):\n",
    "    \"\"\" Get the dual variables from a problem Pulp \"\"\"\n",
    "    return [c.pi for _, c in list(lpPb.constraints.items())]"
   ]
  },
  {
   "cell_type": "code",
   "execution_count": 115,
   "metadata": {},
   "outputs": [
    {
     "data": {
      "text/plain": [
       "[1.0, -0.0, 1.0, -0.0, 1.0, -0.0, 1.0, -0.0]"
      ]
     },
     "execution_count": 115,
     "metadata": {},
     "output_type": "execute_result"
    }
   ],
   "source": [
    "get_duals(lpProb)[0:8]"
   ]
  },
  {
   "cell_type": "markdown",
   "metadata": {},
   "source": [
    "## Iterative procedure"
   ]
  },
  {
   "cell_type": "code",
   "execution_count": 121,
   "metadata": {},
   "outputs": [],
   "source": [
    "go_on = True\n",
    "\n",
    "# while go_on :\n",
    "for i in range(1):\n",
    "\n",
    "    duals = get_duals(lpProb)\n",
    "\n",
    "    modify_weights_graph (Graph_dual, duals)\n",
    "\n",
    "    path_q = shortest_path(Graph_dual, source, destination)\n",
    "\n",
    "    reduced_cost = 1\n",
    "\n",
    "    for e in range(len(path_q)-1) :\n",
    "        try :\n",
    "            reduced_cost -= lpProb.constraints[str((path_q[e], path_q[e + 1]))].pi\n",
    "        except KeyError : # <|-- constraint does not exist (so dual == 0)\n",
    "            pass\n",
    "\n",
    "    if reduced_cost >= 0 : # add path q in lp Problem\n",
    "        path_count, path2idx = add_paths(lpProb, [path_q], path_count, path2idx)\n",
    "    else :\n",
    "        go_on = False\n"
   ]
  },
  {
   "cell_type": "code",
   "execution_count": 122,
   "metadata": {},
   "outputs": [
    {
     "data": {
      "text/plain": [
       "0.0"
      ]
     },
     "execution_count": 122,
     "metadata": {},
     "output_type": "execute_result"
    }
   ],
   "source": [
    "reduced_cost"
   ]
  },
  {
   "cell_type": "code",
   "execution_count": 123,
   "metadata": {},
   "outputs": [
    {
     "data": {
      "text/plain": [
       "True"
      ]
     },
     "execution_count": 123,
     "metadata": {},
     "output_type": "execute_result"
    }
   ],
   "source": [
    "go_on"
   ]
  },
  {
   "cell_type": "code",
   "execution_count": 124,
   "metadata": {},
   "outputs": [
    {
     "data": {
      "text/plain": [
       "path_generation:\n",
       "MAXIMIZE\n",
       "1*X0 + 1*X1 + 1*X10 + 1*X11 + 1*X12 + 1*X13 + 1*X14 + 1*X15 + 1*X16 + 1*X17 + 1*X18 + 1*X19 + 1*X2 + 1*X3 + 1*X4 + 1*X5 + 1*X6 + 1*X7 + 1*X8 + 1*X9 + 0\n",
       "SUBJECT TO\n",
       "(0, 1): X0 + X16 + X17 + X18 + X19 <= 14.3257854899\n",
       "\n",
       "(0, 2): X1 + X2 + X3 + X4 + X5 <= 7.58931201546\n",
       "\n",
       "(2, 1): X1 + X10 + X12 + X15 + X7 <= 10.0947274599\n",
       "\n",
       "(2, 3): X13 + X2 + X3 <= 7.80422780634\n",
       "\n",
       "(3, 1): X13 + X14 + X2 + X5 + X6 <= 10.4044050004\n",
       "\n",
       "(3, 4): X10 + X3 + X9 <= 10.1186350608\n",
       "\n",
       "(4, 1): X11 + X3 + X4 + X8 + X9 <= 10.0079814349\n",
       "\n",
       "(2, 4): X4 + X5 + X8 <= 12.7523626368\n",
       "\n",
       "(4, 3): X14 + X15 + X5 <= 8.67067380674\n",
       "\n",
       "(0, 3): X10 + X6 + X7 + X8 + X9 <= 12.7314078661\n",
       "\n",
       "(3, 2): X15 + X7 + X8 <= 5.14924547057\n",
       "\n",
       "(4, 2): X10 + X12 + X13 <= 5.9211499804\n",
       "\n",
       "(0, 4): X11 + X12 + X13 + X14 + X15 <= 10.4012331648\n",
       "\n",
       "VARIABLES\n",
       "X0 Continuous\n",
       "X1 Continuous\n",
       "X10 Continuous\n",
       "X11 Continuous\n",
       "X12 Continuous\n",
       "X13 Continuous\n",
       "X14 Continuous\n",
       "X15 Continuous\n",
       "X16 Continuous\n",
       "X17 Continuous\n",
       "X18 Continuous\n",
       "X19 Continuous\n",
       "X2 Continuous\n",
       "X3 Continuous\n",
       "X4 Continuous\n",
       "X5 Continuous\n",
       "X6 Continuous\n",
       "X7 Continuous\n",
       "X8 Continuous\n",
       "X9 Continuous"
      ]
     },
     "execution_count": 124,
     "metadata": {},
     "output_type": "execute_result"
    }
   ],
   "source": [
    "lpProb"
   ]
  }
 ],
 "metadata": {
  "kernelspec": {
   "display_name": "Python 3 (ipykernel)",
   "language": "python",
   "name": "python3"
  },
  "language_info": {
   "codemirror_mode": {
    "name": "ipython",
    "version": 3
   },
   "file_extension": ".py",
   "mimetype": "text/x-python",
   "name": "python",
   "nbconvert_exporter": "python",
   "pygments_lexer": "ipython3",
   "version": "3.9.12"
  },
  "vscode": {
   "interpreter": {
    "hash": "770b5886b0b327e0fa0332c0d6b4bdee1b105ba5d5227e421d9cca75b92371f9"
   }
  }
 },
 "nbformat": 4,
 "nbformat_minor": 4
}
