{
 "cells": [
  {
   "cell_type": "code",
   "execution_count": 783,
   "metadata": {},
   "outputs": [],
   "source": [
    "from networkx import maximum_flow\n",
    "from networkx import gnm_random_graph\n",
    "from networkx import draw \n",
    "from networkx import adjacency_matrix\n",
    "from networkx import all_simple_paths\n",
    "from networkx import shortest_path\n",
    "from networkx import set_edge_attributes\n",
    "import numpy as np\n",
    "import pandas as pd\n",
    "import matplotlib.pyplot as plt\n",
    "from copy import deepcopy"
   ]
  },
  {
   "cell_type": "markdown",
   "metadata": {},
   "source": [
    "# Graph"
   ]
  },
  {
   "cell_type": "code",
   "execution_count": 784,
   "metadata": {},
   "outputs": [],
   "source": [
    "min_weight = 5\n",
    "max_weight = 15\n",
    "n_nodes = 5 * 10 ** 4\n",
    "n_edges = 10 ** 6\n",
    "n_nodes = 5 * 10 ** 2\n",
    "n_edges = 10 ** 4\n",
    "n_nodes = 5\n",
    "n_edges = 10\n",
    "# n_nodes, n_edges = 50000, 1000000 # <|-- takes 17.5 s to compute the maximum flow in a graph\n",
    "source, destination = 0, 1 # don't need to randomize (graph is randomized)"
   ]
  },
  {
   "cell_type": "markdown",
   "metadata": {},
   "source": [
    "## Creates a random valuated graph"
   ]
  },
  {
   "cell_type": "code",
   "execution_count": 805,
   "metadata": {},
   "outputs": [],
   "source": [
    "def modify_weights_graph (Graph, ctr_lists, new_weights) :\n",
    "    \"\"\" utility function for setting weights (dual problem of shortest path) \"\"\"\n",
    "    set_edge_attributes(Graph, 0, name=\"weight\")\n",
    "\n",
    "    set_edge_attributes(\n",
    "        Graph,\n",
    "        values = dict({edge : dual for edge, dual in zip (ctr_lists, new_weights)}),\n",
    "        name = 'weight'\n",
    "    )"
   ]
  },
  {
   "cell_type": "code",
   "execution_count": 806,
   "metadata": {},
   "outputs": [],
   "source": [
    "Graph = gnm_random_graph(n_nodes, n_edges, directed=True)\n",
    "Graph_dual = deepcopy(Graph)\n",
    "\n",
    "for (u, v) in Graph.edges():\n",
    "    Graph.edges[u,v]['weight'] = np.random.uniform(min_weight, max_weight)"
   ]
  },
  {
   "cell_type": "code",
   "execution_count": 807,
   "metadata": {},
   "outputs": [
    {
     "name": "stderr",
     "output_type": "stream",
     "text": [
      "C:\\Users\\val\\AppData\\Local\\Temp\\ipykernel_13556\\2680887831.py:1: FutureWarning: adjacency_matrix will return a scipy.sparse array instead of a matrix in Networkx 3.0.\n",
      "  Adj_matrix = adjacency_matrix(Graph)\n"
     ]
    },
    {
     "data": {
      "text/plain": [
       "(5, 5)"
      ]
     },
     "execution_count": 807,
     "metadata": {},
     "output_type": "execute_result"
    }
   ],
   "source": [
    "Adj_matrix = adjacency_matrix(Graph)\n",
    "Adj_matrix.shape"
   ]
  },
  {
   "cell_type": "code",
   "execution_count": 808,
   "metadata": {},
   "outputs": [
    {
     "data": {
      "text/plain": [
       "(30.034077055098578,\n",
       " {1: 12.671619125804556, 3: 10.194697906276499, 4: 7.167760023017527})"
      ]
     },
     "execution_count": 808,
     "metadata": {},
     "output_type": "execute_result"
    }
   ],
   "source": [
    "flow, flow_dict = maximum_flow(Graph, _s = source, _t = destination, capacity='weight')\n",
    "# total flow, flow first node\n",
    "flow, flow_dict[0]"
   ]
  },
  {
   "cell_type": "markdown",
   "metadata": {},
   "source": [
    "Maximum flow is equivalent to maximum path generation **if we consider all possible paths**"
   ]
  },
  {
   "cell_type": "markdown",
   "metadata": {},
   "source": [
    "# Column Generation"
   ]
  },
  {
   "cell_type": "code",
   "execution_count": 809,
   "metadata": {},
   "outputs": [],
   "source": [
    "import pulp as pl"
   ]
  },
  {
   "cell_type": "code",
   "execution_count": 810,
   "metadata": {},
   "outputs": [
    {
     "data": {
      "text/plain": [
       "'cplex.exe'"
      ]
     },
     "execution_count": 810,
     "metadata": {},
     "output_type": "execute_result"
    }
   ],
   "source": [
    "solver = pl.getSolver('CPLEX_CMD', timeLimit=10)\n",
    "solver.path"
   ]
  },
  {
   "cell_type": "code",
   "execution_count": 811,
   "metadata": {},
   "outputs": [],
   "source": [
    "def get_n_paths (Graph, source, destination, max_iter = 16):\n",
    "    \"\"\" Get the max_iter paths of all_simple_paths generator: Graph: source --|> destination \"\"\"\n",
    "    list_ = []\n",
    "    for (index, path) in enumerate(all_simple_paths(Graph, source, destination, cutoff=10)):\n",
    "        list_.append(path)\n",
    "        if (index >= max_iter - 1):\n",
    "            return (list_)\n",
    "    return (list_)"
   ]
  },
  {
   "cell_type": "code",
   "execution_count": 812,
   "metadata": {
    "tags": []
   },
   "outputs": [
    {
     "data": {
      "text/plain": [
       "5"
      ]
     },
     "execution_count": 812,
     "metadata": {},
     "output_type": "execute_result"
    }
   ],
   "source": [
    "# affichage de n chemins \n",
    "len(get_n_paths(Graph, source, destination, max_iter=50))"
   ]
  },
  {
   "cell_type": "markdown",
   "metadata": {},
   "source": [
    "## Master"
   ]
  },
  {
   "cell_type": "code",
   "execution_count": 813,
   "metadata": {},
   "outputs": [],
   "source": [
    "# Etape 0 INIT THE MASTER PROBLEM\n",
    "\n",
    "lpProb = pl.LpProblem(\"path_generation\", pl.LpMaximize)\n",
    "lpProb += 0 # initiate the objective function to 0 (necessary line of code)"
   ]
  },
  {
   "cell_type": "code",
   "execution_count": 814,
   "metadata": {},
   "outputs": [],
   "source": [
    "# useful to know the final paths at the end\n",
    "path2idx = {}\n",
    "ctr_lists = []\n",
    "path_count = 0"
   ]
  },
  {
   "cell_type": "code",
   "execution_count": 815,
   "metadata": {},
   "outputs": [],
   "source": [
    "def add_paths (lpProb, paths, path_count, path2idx):\n",
    "    # pour chaque path ajouter une variable et ses coef. dans les contraintes\n",
    "    for path in paths :\n",
    "\n",
    "        # add a var path\n",
    "        prov = pl.LpVariable(\"X\"+str(path_count), 0, max_weight, pl.LpContinuous)\n",
    "        lpProb.objective.addterm(prov, 1)\n",
    "        \n",
    "        # for each edge on the path, search the associated constraint (indexed by edge)\n",
    "        for index in range(len(path)-1) :\n",
    "            index_ctr = str((path[index], path[index + 1]))\n",
    "            if index_ctr in lpProb.constraints:\n",
    "                lpProb.constraints[index_ctr].addterm(prov, 1) # add term in constraint\n",
    "            else:\n",
    "                lpProb.constraints[index_ctr] = prov <= Graph.edges[(path[index], path[index + 1])]\n",
    "                ctr_lists.append((path[index], path[index + 1]))\n",
    "        \n",
    "        path2idx[path_count] = str(path)\n",
    "        path_count += 1\n",
    "    return (path_count, path2idx)"
   ]
  },
  {
   "cell_type": "code",
   "execution_count": 816,
   "metadata": {},
   "outputs": [],
   "source": [
    "path_count, path2idx = add_paths (lpProb, get_n_paths (Graph, source, destination, max_iter = 1), path_count, path2idx)"
   ]
  },
  {
   "cell_type": "code",
   "execution_count": 817,
   "metadata": {},
   "outputs": [],
   "source": [
    "# solver = pl.CPLEX_PY()\n",
    "result = lpProb.solve()\n",
    "# result = lpProb.solve(pl.GUROBI_CMD(options=[(\"MIPgap\", 0.9)]))"
   ]
  },
  {
   "cell_type": "code",
   "execution_count": 818,
   "metadata": {},
   "outputs": [
    {
     "data": {
      "text/plain": [
       "path_generation:\n",
       "MAXIMIZE\n",
       "1*X0 + 0\n",
       "SUBJECT TO\n",
       "(0, 1): X0 <= 12.6716191258\n",
       "\n",
       "VARIABLES\n",
       "X0 <= 15 Continuous"
      ]
     },
     "execution_count": 818,
     "metadata": {},
     "output_type": "execute_result"
    }
   ],
   "source": [
    "# affichage du MASTER PROBLEM\n",
    "lpProb"
   ]
  },
  {
   "cell_type": "markdown",
   "metadata": {},
   "source": [
    "## Dual variables"
   ]
  },
  {
   "cell_type": "code",
   "execution_count": 819,
   "metadata": {},
   "outputs": [],
   "source": [
    "def get_duals(lpPb):\n",
    "    \"\"\" Get the dual variables from a problem Pulp \"\"\"\n",
    "    return [c.pi for _, c in list(lpPb.constraints.items())]"
   ]
  },
  {
   "cell_type": "markdown",
   "metadata": {},
   "source": [
    "## Iterative procedure"
   ]
  },
  {
   "cell_type": "code",
   "execution_count": 861,
   "metadata": {},
   "outputs": [],
   "source": [
    "go_on = True\n",
    "\n",
    "# while go_on :\n",
    "for i in range(1):\n",
    "\n",
    "    duals = get_duals(lpProb)\n",
    "\n",
    "    modify_weights_graph (Graph_dual, ctr_lists, duals)\n",
    "\n",
    "    path_q = shortest_path(Graph_dual, source, destination, weight=\"weight\")\n",
    "\n",
    "    reduced_cost = 1\n",
    "\n",
    "    for e in range(len(path_q)-1) :\n",
    "        try :\n",
    "            reduced_cost -= lpProb.constraints[str((path_q[e], path_q[e + 1]))].pi\n",
    "        except KeyError : # <|-- constraint does not exist (so dual == 0)\n",
    "            pass\n",
    "\n",
    "    if reduced_cost >= 0 : # add path q in lp Problem\n",
    "        path_count, path2idx = add_paths(lpProb, [path_q], path_count, path2idx)\n",
    "        lpProb.solve()\n",
    "    else :\n",
    "        go_on = False"
   ]
  },
  {
   "cell_type": "code",
   "execution_count": 872,
   "metadata": {},
   "outputs": [
    {
     "data": {
      "text/plain": [
       "[1.0, 1.0, -0.0, 1.0, -0.0, -0.0, -0.0]"
      ]
     },
     "execution_count": 872,
     "metadata": {},
     "output_type": "execute_result"
    }
   ],
   "source": [
    "get_duals(lpProb)[0:8] # le dual n°0 correspond à la 1re contrainte ([0,1] : le chemin direct).\n",
    "# Comme le dual vaut 1 --> le coût réduit associé vaut 0. C'est donc un chemin qui améliore.\n",
    "# De plus, c'est le plus court chemin --> ce chemin est indéfiniment ajouté."
   ]
  },
  {
   "cell_type": "code",
   "execution_count": 869,
   "metadata": {},
   "outputs": [
    {
     "data": {
      "text/plain": [
       "{0: '[0, 1]',\n",
       " 1: '[0, 3, 1]',\n",
       " 2: '[0, 4, 3, 1]',\n",
       " 3: '[0, 4, 2, 1]',\n",
       " 4: '[0, 1]',\n",
       " 5: '[0, 1]',\n",
       " 6: '[0, 1]',\n",
       " 7: '[0, 1]',\n",
       " 8: '[0, 1]',\n",
       " 9: '[0, 1]',\n",
       " 10: '[0, 1]'}"
      ]
     },
     "execution_count": 869,
     "metadata": {},
     "output_type": "execute_result"
    }
   ],
   "source": [
    "path2idx\n",
    "# le dual de [(source, destination)] vaut 1 --> c'est le plus court chemin trouvé.\n",
    "# Il essaie donc d'ajouter indéfiniment ce chemin qui est déjà dans le problème (variable X0)"
   ]
  },
  {
   "cell_type": "code",
   "execution_count": 874,
   "metadata": {},
   "outputs": [
    {
     "name": "stdout",
     "output_type": "stream",
     "text": [
      "[0, 1]\n",
      "0.0\n"
     ]
    }
   ],
   "source": [
    "print(path_q) # [(0, 1)] : le chemin le plus court\n",
    "print(reduced_cost) # coût réduit associé au chemin le plus court [(0, 1)]"
   ]
  },
  {
   "cell_type": "code",
   "execution_count": 871,
   "metadata": {},
   "outputs": [
    {
     "data": {
      "text/plain": [
       "path_generation:\n",
       "MAXIMIZE\n",
       "1*X0 + 1*X1 + 1*X10 + 1*X2 + 1*X3 + 1*X4 + 1*X5 + 1*X6 + 1*X7 + 1*X8 + 1*X9 + 0\n",
       "SUBJECT TO\n",
       "(0, 1): X0 + X10 + X4 + X5 + X6 + X7 + X8 + X9 <= 12.6716191258\n",
       "\n",
       "(0, 3): X1 <= 10.1946979063\n",
       "\n",
       "(3, 1): X1 + X2 <= 10.7305856571\n",
       "\n",
       "(0, 4): X2 + X3 <= 7.16776002302\n",
       "\n",
       "(4, 3): X2 <= 10.7139611619\n",
       "\n",
       "(4, 2): X3 <= 12.9970445578\n",
       "\n",
       "(2, 1): X3 <= 12.6729857951\n",
       "\n",
       "VARIABLES\n",
       "X0 <= 15 Continuous\n",
       "X1 <= 15 Continuous\n",
       "X10 <= 15 Continuous\n",
       "X2 <= 15 Continuous\n",
       "X3 <= 15 Continuous\n",
       "X4 <= 15 Continuous\n",
       "X5 <= 15 Continuous\n",
       "X6 <= 15 Continuous\n",
       "X7 <= 15 Continuous\n",
       "X8 <= 15 Continuous\n",
       "X9 <= 15 Continuous"
      ]
     },
     "execution_count": 871,
     "metadata": {},
     "output_type": "execute_result"
    }
   ],
   "source": [
    "lpProb"
   ]
  }
 ],
 "metadata": {
  "kernelspec": {
   "display_name": "Python 3 (ipykernel)",
   "language": "python",
   "name": "python3"
  },
  "language_info": {
   "codemirror_mode": {
    "name": "ipython",
    "version": 3
   },
   "file_extension": ".py",
   "mimetype": "text/x-python",
   "name": "python",
   "nbconvert_exporter": "python",
   "pygments_lexer": "ipython3",
   "version": "3.9.12"
  },
  "vscode": {
   "interpreter": {
    "hash": "770b5886b0b327e0fa0332c0d6b4bdee1b105ba5d5227e421d9cca75b92371f9"
   }
  }
 },
 "nbformat": 4,
 "nbformat_minor": 4
}
