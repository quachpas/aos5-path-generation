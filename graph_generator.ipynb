{
 "cells": [
  {
   "cell_type": "code",
   "execution_count": 2,
   "metadata": {},
   "outputs": [],
   "source": [
    "from networkx import maximum_flow\n",
    "from networkx import gnm_random_graph\n",
    "from networkx import draw \n",
    "from networkx import adjacency_matrix\n",
    "from networkx import all_simple_paths\n",
    "from networkx import shortest_path\n",
    "from networkx import set_edge_attributes\n",
    "import numpy as np\n",
    "import pandas as pd\n",
    "import matplotlib.pyplot as plt\n",
    "from copy import deepcopy"
   ]
  },
  {
   "cell_type": "markdown",
   "metadata": {},
   "source": [
    "# Graph"
   ]
  },
  {
   "cell_type": "code",
   "execution_count": 1,
   "metadata": {},
   "outputs": [],
   "source": [
    "min_weight = 5\n",
    "max_weight = 15\n",
    "n_nodes = 7 * 10 ** 4\n",
    "n_edges = 2 * 10 ** 6\n",
    "# n_nodes, n_edges = 50000, 1000000 # <|-- takes 17.5 s to compute the maximum flow in a graph\n",
    "source, destination = 0, 1 # don't need to randomize (graph is randomized)"
   ]
  },
  {
   "cell_type": "markdown",
   "metadata": {},
   "source": [
    "## Creates a random valuated graph"
   ]
  },
  {
   "cell_type": "code",
   "execution_count": 3,
   "metadata": {},
   "outputs": [],
   "source": [
    "def modify_weights_graph (Graph, ctr_lists, new_weights) :\n",
    "    \"\"\" utility function for setting weights (dual problem of shortest path) \"\"\"\n",
    "    set_edge_attributes(Graph, 0, name=\"weight\")\n",
    "\n",
    "    set_edge_attributes(\n",
    "        Graph,\n",
    "        values = dict({edge : dual for edge, dual in zip (ctr_lists, new_weights)}),\n",
    "        name = 'weight'\n",
    "    )"
   ]
  },
  {
   "cell_type": "code",
   "execution_count": 4,
   "metadata": {},
   "outputs": [],
   "source": [
    "Graph = gnm_random_graph(n_nodes, n_edges, directed=True)\n",
    "Graph_dual = deepcopy(Graph)\n",
    "\n",
    "for (u, v) in Graph.edges():\n",
    "    Graph.edges[u,v]['weight'] = np.random.uniform(min_weight, max_weight)"
   ]
  },
  {
   "cell_type": "code",
   "execution_count": 5,
   "metadata": {},
   "outputs": [
    {
     "name": "stderr",
     "output_type": "stream",
     "text": [
      "C:\\Users\\val\\AppData\\Local\\Temp\\ipykernel_2548\\2680887831.py:1: FutureWarning: adjacency_matrix will return a scipy.sparse array instead of a matrix in Networkx 3.0.\n",
      "  Adj_matrix = adjacency_matrix(Graph)\n"
     ]
    },
    {
     "data": {
      "text/plain": [
       "(70000, 70000)"
      ]
     },
     "execution_count": 5,
     "metadata": {},
     "output_type": "execute_result"
    }
   ],
   "source": [
    "Adj_matrix = adjacency_matrix(Graph)\n",
    "Adj_matrix.shape"
   ]
  },
  {
   "cell_type": "code",
   "execution_count": 6,
   "metadata": {},
   "outputs": [
    {
     "data": {
      "text/plain": [
       "(259.80696737823627,\n",
       " {21204: 7.338335110364076,\n",
       "  50678: 8.96299054981208,\n",
       "  56915: 8.37935837340329,\n",
       "  26334: 10.720195322041421,\n",
       "  56284: 13.04473558402868,\n",
       "  4578: 14.74711428214798,\n",
       "  6605: 12.554742019878455,\n",
       "  24890: 14.187743448360347,\n",
       "  8318: 7.269304828595172,\n",
       "  9374: 14.78112626018133,\n",
       "  49866: 9.987085249499334,\n",
       "  24163: 8.44645652701417,\n",
       "  14389: 8.318402824703455,\n",
       "  38817: 6.32005015137176,\n",
       "  51022: 9.203809446375338,\n",
       "  16878: 10.666467199822785,\n",
       "  49001: 9.84380522214076,\n",
       "  17130: 9.65759125788502,\n",
       "  32087: 8.169279008376495,\n",
       "  15211: 13.726548897751593,\n",
       "  56006: 13.548004410872762,\n",
       "  37475: 6.560585444485313,\n",
       "  26767: 13.045569639856232,\n",
       "  50519: 13.749037264014701,\n",
       "  4056: 6.578629055253767})"
      ]
     },
     "execution_count": 6,
     "metadata": {},
     "output_type": "execute_result"
    }
   ],
   "source": [
    "flow, flow_dict = maximum_flow(Graph, _s = source, _t = destination, capacity='weight')\n",
    "# total flow, flow first node\n",
    "flow, flow_dict[0]"
   ]
  },
  {
   "cell_type": "markdown",
   "metadata": {},
   "source": [
    "Maximum flow is equivalent to maximum path generation **if we consider all possible paths**"
   ]
  },
  {
   "cell_type": "markdown",
   "metadata": {},
   "source": [
    "# Column Generation"
   ]
  },
  {
   "cell_type": "code",
   "execution_count": 7,
   "metadata": {},
   "outputs": [],
   "source": [
    "import pulp as pl"
   ]
  },
  {
   "cell_type": "code",
   "execution_count": 8,
   "metadata": {},
   "outputs": [
    {
     "data": {
      "text/plain": [
       "'cplex.exe'"
      ]
     },
     "execution_count": 8,
     "metadata": {},
     "output_type": "execute_result"
    }
   ],
   "source": [
    "solver = pl.getSolver('CPLEX_CMD', timeLimit=10)\n",
    "solver.path"
   ]
  },
  {
   "cell_type": "code",
   "execution_count": 9,
   "metadata": {},
   "outputs": [],
   "source": [
    "def get_n_paths (Graph, source, destination, max_iter = 16):\n",
    "    \"\"\" Get the max_iter paths of all_simple_paths generator: Graph: source --|> destination \"\"\"\n",
    "    list_ = []\n",
    "    for (index, path) in enumerate(all_simple_paths(Graph, source, destination, cutoff=10)):\n",
    "        list_.append(path)\n",
    "        if (index >= max_iter - 1):\n",
    "            return (list_)\n",
    "    return (list_)"
   ]
  },
  {
   "cell_type": "code",
   "execution_count": 10,
   "metadata": {
    "tags": []
   },
   "outputs": [
    {
     "data": {
      "text/plain": [
       "50"
      ]
     },
     "execution_count": 10,
     "metadata": {},
     "output_type": "execute_result"
    }
   ],
   "source": [
    "# affichage de n chemins \n",
    "len(get_n_paths(Graph, source, destination, max_iter=50))"
   ]
  },
  {
   "cell_type": "markdown",
   "metadata": {},
   "source": [
    "## Master"
   ]
  },
  {
   "cell_type": "code",
   "execution_count": 14,
   "metadata": {},
   "outputs": [],
   "source": [
    "# Etape 0 INIT THE MASTER PROBLEM\n",
    "\n",
    "lpProb = pl.LpProblem(\"path_generation\", pl.LpMaximize)\n",
    "lpProb += 0 # initiate the objective function to 0 (necessary line of code)"
   ]
  },
  {
   "cell_type": "code",
   "execution_count": 15,
   "metadata": {},
   "outputs": [],
   "source": [
    "# useful to know the final paths at the end and calculate the shortest path for dual problem\n",
    "path2idx = {}\n",
    "ctr_lists = []\n",
    "path_count = 0"
   ]
  },
  {
   "cell_type": "code",
   "execution_count": 16,
   "metadata": {},
   "outputs": [],
   "source": [
    "def add_paths (lpProb, paths, path_count, path2idx):\n",
    "    \"\"\" Add paths in lpPoblem (new variables Xp and new constraints or terms in constraints Ce) \"\"\"\n",
    "\n",
    "    # pour chaque path ajouter une variable et ses coef. dans les contraintes\n",
    "    for path in paths :\n",
    "\n",
    "        # add a var path\n",
    "        prov = pl.LpVariable(\"X\"+str(path_count), 0, max_weight, pl.LpContinuous)\n",
    "        lpProb.objective.addterm(prov, 1)\n",
    "        \n",
    "        # for each edge on the path, search the associated constraint (indexed by edge)\n",
    "        for index in range(len(path)-1) :\n",
    "            index_ctr = str((path[index], path[index + 1]))\n",
    "            if index_ctr in lpProb.constraints:\n",
    "                lpProb.constraints[index_ctr].addterm(prov, 1) # add term in constraint\n",
    "            else:\n",
    "                lpProb.constraints[index_ctr] = prov <= Graph.edges[(path[index], path[index + 1])]\n",
    "                ctr_lists.append((path[index], path[index + 1]))\n",
    "        \n",
    "        path2idx[path_count] = str(path)\n",
    "        path_count += 1\n",
    "    return (path_count, path2idx)"
   ]
  },
  {
   "cell_type": "code",
   "execution_count": 17,
   "metadata": {},
   "outputs": [],
   "source": [
    "path_count, path2idx = add_paths (lpProb, get_n_paths (Graph, source, destination, max_iter = 1), path_count, path2idx)"
   ]
  },
  {
   "cell_type": "code",
   "execution_count": 18,
   "metadata": {},
   "outputs": [],
   "source": [
    "# solver = pl.CPLEX_PY()\n",
    "result = lpProb.solve()\n",
    "# result = lpProb.solve(pl.GUROBI_CMD(options=[(\"MIPgap\", 0.9)]))"
   ]
  },
  {
   "cell_type": "markdown",
   "metadata": {},
   "source": [
    "## Dual variables"
   ]
  },
  {
   "cell_type": "code",
   "execution_count": 19,
   "metadata": {},
   "outputs": [],
   "source": [
    "def get_duals(lpPb):\n",
    "    \"\"\" Get the dual variables from a problem Pulp \"\"\"\n",
    "    return [c.pi for _, c in list(lpPb.constraints.items())]"
   ]
  },
  {
   "cell_type": "markdown",
   "metadata": {},
   "source": [
    "## Iterative procedure"
   ]
  },
  {
   "cell_type": "code",
   "execution_count": 20,
   "metadata": {},
   "outputs": [],
   "source": [
    "go_on = True\n",
    "\n",
    "while go_on :\n",
    "    # search of path q (dual problem)\n",
    "    duals = get_duals(lpProb)\n",
    "    modify_weights_graph (Graph_dual, ctr_lists, duals)\n",
    "    path_q = shortest_path(Graph_dual, source, destination, weight=\"weight\")\n",
    "\n",
    "    # compute reduced cost for dual\n",
    "    reduced_cost = 1\n",
    "    for e in range(len(path_q)-1) :\n",
    "        try :\n",
    "            reduced_cost -= lpProb.constraints[str((path_q[e], path_q[e + 1]))].pi\n",
    "        except KeyError : # <|-- constraint does not exist (so dual == 0)\n",
    "            pass\n",
    "\n",
    "    # stop procedure ?\n",
    "    if reduced_cost > 0 : # add path q in lp Problem\n",
    "        path_count, path2idx = add_paths(lpProb, [path_q], path_count, path2idx)\n",
    "        lpProb.solve()\n",
    "    else :\n",
    "        go_on = False"
   ]
  },
  {
   "cell_type": "code",
   "execution_count": 21,
   "metadata": {},
   "outputs": [
    {
     "name": "stdout",
     "output_type": "stream",
     "text": [
      "259.8069673299999\n"
     ]
    }
   ],
   "source": [
    "flow = 0\n",
    "for var in lpProb.variables():\n",
    "    flow += var.value()\n",
    "print(flow)"
   ]
  },
  {
   "cell_type": "code",
   "execution_count": 22,
   "metadata": {},
   "outputs": [
    {
     "data": {
      "text/plain": [
       "{'[0, 21204, 5585, 13874, 13610, 69681, 52877, 14109, 14262, 40703, 1]': 1.8656445,\n",
       " '[0, 49866, 13224, 57376, 1]': 6.3299619,\n",
       " '[0, 21204, 37326, 33057, 29307, 1]': 5.4726906,\n",
       " '[0, 50678, 8909, 8977, 57069, 1]': 2.5134126,\n",
       " '[0, 56915, 50394, 40636, 34472, 1]': 5.1674056,\n",
       " '[0, 56915, 69429, 68380, 33333, 1]': 3.2119528,\n",
       " '[0, 26334, 7389, 20398, 51402, 1]': 6.4350903,\n",
       " '[0, 26334, 68699, 48486, 16004, 1]': 4.285105,\n",
       " '[0, 56284, 64287, 20738, 16004, 1]': 6.0485494,\n",
       " '[0, 4578, 44252, 9207, 38849, 1]': 0.92040728,\n",
       " '[0, 38817, 61820, 54506, 1]': 6.3200502,\n",
       " '[0, 4578, 27237, 16235, 56616, 1]': 6.569066,\n",
       " '[0, 4578, 9927, 42676, 33333, 1]': 7.257641,\n",
       " '[0, 6605, 33460, 100, 38849, 1]': 8.520393,\n",
       " '[0, 6605, 1225, 64591, 9446, 1]': 4.034349,\n",
       " '[0, 24890, 64592, 11660, 28250, 1]': 6.5978205,\n",
       " '[0, 24890, 12669, 58200, 51402, 1]': 5.0729107,\n",
       " '[0, 24890, 42183, 14061, 37567, 22376, 1]': 2.5170122,\n",
       " '[0, 8318, 53587, 63060, 38884, 1]': 1.5999712,\n",
       " '[0, 9374, 49607, 46764, 8129, 1]': 3.1447709,\n",
       " '[0, 51022, 34370, 42530, 1]': 1.6110095,\n",
       " '[0, 8318, 32949, 42530, 1]': 0.21658475,\n",
       " '[0, 56284, 13813, 18656, 57069, 1]': 6.9961862,\n",
       " '[0, 9374, 24572, 29481, 10766, 1]': 1.7021213,\n",
       " '[0, 50678, 60603, 62839, 22376, 1]': 6.4495779,\n",
       " '[0, 9374, 28753, 12744, 40703, 1]': 2.4610805,\n",
       " '[0, 49866, 12582, 56936, 10766, 1]': 3.6571234,\n",
       " '[0, 24163, 8442, 32798, 33333, 1]': 1.7702753,\n",
       " '[0, 24163, 15929, 40782, 35598, 1]': 6.6761812,\n",
       " '[0, 14389, 44254, 13950, 23670, 1]': 6.5555882,\n",
       " '[0, 14389, 47179, 27231, 42530, 1]': 0.81823863,\n",
       " '[0, 16878, 24302, 52158, 54506, 1]': 1.4222896,\n",
       " '[0, 49001, 48847, 7834, 38884, 1]': 5.4379588,\n",
       " '[0, 8318, 54621, 45897, 47755, 1]': 2.8162275,\n",
       " '[0, 49001, 50726, 50114, 57376, 1]': 4.4058464,\n",
       " '[0, 32087, 69817, 35006, 40703, 1]': 5.0795155,\n",
       " '[0, 9374, 42296, 6457, 56512, 1]': 7.4731536,\n",
       " '[0, 15211, 69471, 13022, 40296, 1]': 7.2464314,\n",
       " '[0, 15211, 4680, 9347, 40703, 1]': 0.63087069,\n",
       " '[0, 32087, 45270, 49340, 42530, 1]': 3.0897635,\n",
       " '[0, 15211, 36532, 3795, 23670, 1]': 5.8492468,\n",
       " '[0, 51022, 41362, 43673, 1]': 7.5927999,\n",
       " '[0, 56006, 32015, 64262, 64405, 1]': 5.9251179,\n",
       " '[0, 17130, 13213, 25643, 28092, 1]': 2.0654032,\n",
       " '[0, 56006, 26827, 24526, 9446, 1]': 7.6228866,\n",
       " '[0, 37475, 5730, 12883, 42530, 1]': 1.4920243,\n",
       " '[0, 14389, 32884, 28901, 23670, 1]': 0.94457597,\n",
       " '[0, 37475, 16520, 42229, 47755, 1]': 5.0685611,\n",
       " '[0, 26767, 14740, 46114, 8129, 1]': 7.9162414,\n",
       " '[0, 8318, 25919, 21650, 38849, 1]': 2.6365213,\n",
       " '[0, 26767, 7239, 9315, 54506, 1]': 5.1293282,\n",
       " '[0, 4056, 55732, 47755, 1]': 6.5786291,\n",
       " '[0, 50519, 27007, 37729, 64405, 1]': 0.82526221,\n",
       " '[0, 50519, 33609, 12517, 8834, 1]': 5.9106478,\n",
       " '[0, 17130, 12013, 37330, 40296, 1]': 7.5921881,\n",
       " '[0, 50519, 35998, 54838, 28092, 1]': 7.0131273,\n",
       " '[0, 16878, 43887, 42431, 1]': 9.2441776}"
      ]
     },
     "execution_count": 22,
     "metadata": {},
     "output_type": "execute_result"
    }
   ],
   "source": [
    "paths = {path2idx[int(str(var)[1:])] : var.value() for var in lpProb.variables() if var.value() > 0}\n",
    "paths"
   ]
  }
 ],
 "metadata": {
  "kernelspec": {
   "display_name": "Python 3 (ipykernel)",
   "language": "python",
   "name": "python3"
  },
  "language_info": {
   "codemirror_mode": {
    "name": "ipython",
    "version": 3
   },
   "file_extension": ".py",
   "mimetype": "text/x-python",
   "name": "python",
   "nbconvert_exporter": "python",
   "pygments_lexer": "ipython3",
   "version": "3.9.12"
  },
  "vscode": {
   "interpreter": {
    "hash": "770b5886b0b327e0fa0332c0d6b4bdee1b105ba5d5227e421d9cca75b92371f9"
   }
  }
 },
 "nbformat": 4,
 "nbformat_minor": 4
}
